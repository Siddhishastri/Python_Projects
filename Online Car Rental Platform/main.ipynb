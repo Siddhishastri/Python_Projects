{
 "cells": [
  {
   "cell_type": "code",
   "execution_count": 1,
   "id": "7f1feecd-5eca-4e13-9981-f7c98527b0f3",
   "metadata": {},
   "outputs": [],
   "source": [
    "from car_rental import Car, CarRental"
   ]
  },
  {
   "cell_type": "code",
   "execution_count": 4,
   "id": "dda26fa1-ee4d-4fe4-a24c-6b5d889ebe4a",
   "metadata": {},
   "outputs": [
    {
     "name": "stdout",
     "output_type": "stream",
     "text": [
      "Available cars:\n",
      "Car ID: 1, Model: Toyota Corolla, Rate per Hour: 10, Available: True\n",
      "Car ID: 2, Model: Honda Civic, Rate per Hour: 12, Available: True\n",
      "Car ID: 3, Model: Ford Focus, Rate per Hour: 8, Available: True\n",
      "Car 1 rented at 2024-06-20 09:58:34.918683\n",
      "Car 1 returned at 2024-06-20 09:58:36.919884\n",
      "Rental duration: 0.00 hours\n",
      "Total bill: $0.01\n",
      "Available cars after return:\n",
      "Car ID: 1, Model: Toyota Corolla, Rate per Hour: 10, Available: True\n",
      "Car ID: 2, Model: Honda Civic, Rate per Hour: 12, Available: True\n",
      "Car ID: 3, Model: Ford Focus, Rate per Hour: 8, Available: True\n"
     ]
    }
   ],
   "source": [
    "def main():\n",
    "    car_rental_system = CarRental()\n",
    "\n",
    "    # Adding cars to the rental system\n",
    "    car1 = Car(car_id=1, model='Toyota Corolla', rate_per_hour=10)\n",
    "    car2 = Car(car_id=2, model='Honda Civic', rate_per_hour=12)\n",
    "    car3 = Car(car_id=3, model='Ford Focus', rate_per_hour=8)\n",
    "    \n",
    "    car_rental_system.add_car(car1)\n",
    "    car_rental_system.add_car(car2)\n",
    "    car_rental_system.add_car(car3)\n",
    "\n",
    "    # Display available cars\n",
    "    print(\"Available cars:\")\n",
    "    car_rental_system.available_cars()\n",
    "\n",
    "    # Rent a car\n",
    "    car_rental_system.rent_car(1)\n",
    "\n",
    "    # Simulate some delay\n",
    "    import time\n",
    "    time.sleep(2)  # Sleep for 2 seconds to simulate rental duration\n",
    "\n",
    "    # Return a car\n",
    "    car_rental_system.return_car(1)\n",
    "\n",
    "    # Display available cars again\n",
    "    print(\"Available cars after return:\")\n",
    "    car_rental_system.available_cars()\n",
    "\n",
    "if __name__ == \"__main__\":\n",
    "    main()"
   ]
  },
  {
   "cell_type": "code",
   "execution_count": null,
   "id": "2bb81da3-4909-4be9-ba90-bd7e008be66f",
   "metadata": {},
   "outputs": [],
   "source": []
  }
 ],
 "metadata": {
  "kernelspec": {
   "display_name": "Python 3 (ipykernel)",
   "language": "python",
   "name": "python3"
  },
  "language_info": {
   "codemirror_mode": {
    "name": "ipython",
    "version": 3
   },
   "file_extension": ".py",
   "mimetype": "text/x-python",
   "name": "python",
   "nbconvert_exporter": "python",
   "pygments_lexer": "ipython3",
   "version": "3.11.7"
  }
 },
 "nbformat": 4,
 "nbformat_minor": 5
}
