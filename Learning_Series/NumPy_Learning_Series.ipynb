{
 "cells": [
  {
   "cell_type": "code",
   "execution_count": 1,
   "id": "a40905c2-28f0-4da7-bede-acdb9da24d21",
   "metadata": {},
   "outputs": [],
   "source": [
    "# python library used for working with arrays. working in domain of linear algebra, fourier transform and matricesw.\n",
    "# Numpy stand for Numerical Python.\n",
    "# In python we have arraysw and that serves purpose of arrays, but they are slow to process\n",
    "# NumPy aims to provide an array object that is up to 50x faster than traditional python lists. \n",
    "# why is numpy faster than lists?\n",
    "# numpy arrays are stored at one continuous place in memory unlike lists\n",
    "# written partially in python, but most of the parts that require fast couputation are written in c or c++\n",
    "# now we will create a numpy ndarray object\n",
    "# the array object in numpy is call ndarray\n",
    "# array()"
   ]
  },
  {
   "cell_type": "code",
   "execution_count": 2,
   "id": "af8a966d-3db1-4040-bb2d-3472dde97ae7",
   "metadata": {},
   "outputs": [
    {
     "name": "stdout",
     "output_type": "stream",
     "text": [
      "[1 2 3 4 5]\n",
      "<class 'numpy.ndarray'>\n"
     ]
    }
   ],
   "source": [
    "import numpy as np\n",
    "x = np.array([1,2,3,4,5])\n",
    "print(x)\n",
    "print(type(x))"
   ]
  },
  {
   "cell_type": "code",
   "execution_count": 5,
   "id": "d8722af5-1e05-4cd2-851b-317bfee98f50",
   "metadata": {},
   "outputs": [
    {
     "name": "stdout",
     "output_type": "stream",
     "text": [
      "[1 2 3 4 5]\n",
      "<class 'numpy.ndarray'>\n"
     ]
    }
   ],
   "source": [
    "# we can also pass a list. tuple or any array like object with array(). and it will be converted to nd array\n",
    "y = np.array((1,2,3,4,5))\n",
    "print(y)\n",
    "print(type(x))"
   ]
  },
  {
   "cell_type": "code",
   "execution_count": 6,
   "id": "a2cf7110-440f-4c04-a3ec-531abdb31058",
   "metadata": {},
   "outputs": [
    {
     "name": "stdout",
     "output_type": "stream",
     "text": [
      "42\n"
     ]
    }
   ],
   "source": [
    "# dimentions in arrays - a dimensions in arrays is one level of array depth(nested array)\n",
    "# 0.D arrays - scalars, are the elements in an array, each value in an array is a 0-D array\n",
    "# now we will create 0_d array with value 42\n",
    "x = np.array(42)\n",
    "print(x)"
   ]
  },
  {
   "cell_type": "code",
   "execution_count": 7,
   "id": "a0ed9b4b-8592-4557-b289-6f9ffd1ced4c",
   "metadata": {},
   "outputs": [
    {
     "name": "stdout",
     "output_type": "stream",
     "text": [
      "[1 2 3 4]\n"
     ]
    }
   ],
   "source": [
    "#1-d arrays - an array that has 0-d arrays as its elements is called uni directional oe 1-d\n",
    "siddhi = np.array([1,2,3,4])\n",
    "print(siddhi)"
   ]
  },
  {
   "cell_type": "code",
   "execution_count": 8,
   "id": "7cf75dbf-1008-4ebe-9ebe-9376671fad36",
   "metadata": {},
   "outputs": [
    {
     "name": "stdout",
     "output_type": "stream",
     "text": [
      "[[1 2 3]\n",
      " [4 5 6]]\n"
     ]
    }
   ],
   "source": [
    "# create a 2-d array containing 2 arrays with certain values.\n",
    "x = np.array([[1,2,3],[4,5,6]])\n",
    "print(x)"
   ]
  },
  {
   "cell_type": "code",
   "execution_count": 10,
   "id": "30fd3142-76b0-4968-a463-d33ad9814950",
   "metadata": {},
   "outputs": [
    {
     "name": "stdout",
     "output_type": "stream",
     "text": [
      "[[[1 2 3]\n",
      "  [4 5 6]]\n",
      "\n",
      " [[1 2 3]\n",
      "  [4 5 6]]]\n"
     ]
    }
   ],
   "source": [
    "# now we will create a 3-d array with  two 2-d array.\n",
    "y = np.array([[[1,2,3],[4,5,6]],[[1,2,3],[4,5,6]]])\n",
    "print(y)"
   ]
  },
  {
   "cell_type": "code",
   "execution_count": 13,
   "id": "73803f08-91ea-4ea9-86d0-fcec83da867d",
   "metadata": {},
   "outputs": [
    {
     "name": "stdout",
     "output_type": "stream",
     "text": [
      "0\n",
      "1\n",
      "2\n",
      "3\n"
     ]
    }
   ],
   "source": [
    "# check how many dimensions array have: ndim attribute \n",
    "a = np.array(42)\n",
    "b = np.array([1,2,3,4,5])\n",
    "c = np.array([[1,2,3],[4,5,6]])\n",
    "d = np.array([[[1,2,3],[4,5,6]],[[1,2,3],[4,5,6]]])\n",
    "\n",
    "print(a.ndim)\n",
    "print(b.ndim)\n",
    "print(c.ndim)\n",
    "print(d.ndim)"
   ]
  },
  {
   "cell_type": "code",
   "execution_count": 15,
   "id": "9fa70fa2-5633-4719-8c8c-659a26807f62",
   "metadata": {},
   "outputs": [
    {
     "name": "stdout",
     "output_type": "stream",
     "text": [
      "[[[[[1 2 3 4 5]]]]]\n",
      "number of dimensions:  5\n"
     ]
    }
   ],
   "source": [
    "# create an array 5-d and has verified that it has 5 dimensions\n",
    "a = np.array([1,2,3,4,5], ndmin=5)\n",
    "print(a)\n",
    "print('number of dimensions: ',a.ndim)"
   ]
  },
  {
   "cell_type": "code",
   "execution_count": 16,
   "id": "a719b11a-60cd-4f7e-a721-5e1128572eb8",
   "metadata": {},
   "outputs": [
    {
     "name": "stdout",
     "output_type": "stream",
     "text": [
      "1\n"
     ]
    }
   ],
   "source": [
    "# Array indexing is the same as accessing an array element.\n",
    "x = np.array([1,2,3,4])\n",
    "print(x[0])"
   ]
  },
  {
   "cell_type": "code",
   "execution_count": 2,
   "id": "9c9efa55-71c3-404b-a087-88d03eec2a76",
   "metadata": {},
   "outputs": [
    {
     "name": "stdout",
     "output_type": "stream",
     "text": [
      "1 3\n"
     ]
    }
   ],
   "source": [
    "import numpy as np\n",
    "# we can get the third and fourth elements from adding them \n",
    "x = np.array([1,2,3,4])\n",
    "print(x[0], x[2])"
   ]
  },
  {
   "cell_type": "code",
   "execution_count": 4,
   "id": "4391d453-7d55-4695-8718-2b1786fd5b2e",
   "metadata": {},
   "outputs": [
    {
     "name": "stdout",
     "output_type": "stream",
     "text": [
      "2nd element of 2st row 4\n"
     ]
    }
   ],
   "source": [
    "# accessing the 2-D - it is like a rows and columns\n",
    "x = np.array([[0,1,2,3,4],[5,4,6,7,8]])\n",
    "print('2nd element of 2st row',x[1,1])"
   ]
  },
  {
   "cell_type": "code",
   "execution_count": 5,
   "id": "0d1fa82d-4bed-4026-967e-d62bd5eed631",
   "metadata": {},
   "outputs": [
    {
     "name": "stdout",
     "output_type": "stream",
     "text": [
      "4\n"
     ]
    }
   ],
   "source": [
    "# accessing the 3- D - same as accessing(two 2d = 3d)\n",
    "y = np.array([[[1,2,3],[2,3,4]],[[3,4,5],[3,4,5]]])\n",
    "print(y[0,1,2])"
   ]
  },
  {
   "cell_type": "code",
   "execution_count": 6,
   "id": "fc88cf9e-3322-4224-b0ec-5ef32ec05ebd",
   "metadata": {},
   "outputs": [
    {
     "name": "stdout",
     "output_type": "stream",
     "text": [
      "[2 3 4]\n"
     ]
    }
   ],
   "source": [
    "# slicing - taking elements from given index to another index\n",
    "# [start:end],[start:end:step]\n",
    "# now we will slice an element from 1 to 5 :\n",
    "x = np.array([1,2,3,4,5,6,7,8])\n",
    "print(x[1:4])"
   ]
  },
  {
   "cell_type": "code",
   "execution_count": 8,
   "id": "9ba3f7a4-d110-49bd-9931-d11098a71c72",
   "metadata": {},
   "outputs": [
    {
     "name": "stdout",
     "output_type": "stream",
     "text": [
      "[1 2 3]\n"
     ]
    }
   ],
   "source": [
    "# now we will slice from index 4 to the end value(if we cant see the end value then we can use :)\n",
    "y = np.array([1,2,3,4,5,6])\n",
    "print(y[:3])"
   ]
  },
  {
   "cell_type": "code",
   "execution_count": 12,
   "id": "b375f737-2c0e-4eda-bfce-ec3c9158d36d",
   "metadata": {},
   "outputs": [
    {
     "name": "stdout",
     "output_type": "stream",
     "text": [
      "[6 7]\n"
     ]
    }
   ],
   "source": [
    "# negative slicing - index 3 to end \n",
    "y = np.array([1,2,3,4,5,6,7,8])\n",
    "print(y[-3:-1])"
   ]
  },
  {
   "cell_type": "code",
   "execution_count": 15,
   "id": "c649236a-f846-49a7-8386-9ee89064a5b5",
   "metadata": {},
   "outputs": [
    {
     "name": "stdout",
     "output_type": "stream",
     "text": [
      "[2 4]\n"
     ]
    }
   ],
   "source": [
    "# step : you will use step value to determine the step of the slicing\n",
    "# return every other val from indey 1 to 5\n",
    "y = np.array([1,2,3,4,5,6,7,8])\n",
    "print(y[1:5:2])"
   ]
  },
  {
   "cell_type": "code",
   "execution_count": 16,
   "id": "ce0c67d4-d28b-4b6b-be4f-5e22587470a7",
   "metadata": {},
   "outputs": [
    {
     "name": "stdout",
     "output_type": "stream",
     "text": [
      "[1 3 5 7]\n"
     ]
    }
   ],
   "source": [
    "# now return every other number from the entire number array\n",
    "y = np.array([1,2,3,4,5,6,7,8])\n",
    "print(y[::2])"
   ]
  },
  {
   "cell_type": "code",
   "execution_count": 17,
   "id": "dcbb0330-c984-4aa1-9861-767fa71a8814",
   "metadata": {},
   "outputs": [
    {
     "name": "stdout",
     "output_type": "stream",
     "text": [
      "int32\n"
     ]
    }
   ],
   "source": [
    "# data types: string, int, float, boolean, complex\n",
    "# data type in numpy: i for int, b for boolean, u for unsigned, f for float, c for complex float, m for timedelta, M for datetime, o for object, S for string, \n",
    "# U for unicode string, V for memory junk\n",
    "# checking the data type of numpy array - dtype\n",
    "x = np.array([1,2,3,4,5])\n",
    "print(x.dtype)"
   ]
  },
  {
   "cell_type": "code",
   "execution_count": 18,
   "id": "2566394b-b132-4b35-b552-35c658dd6545",
   "metadata": {},
   "outputs": [
    {
     "name": "stdout",
     "output_type": "stream",
     "text": [
      "[1 2 3 4]\n",
      "int32\n"
     ]
    }
   ],
   "source": [
    "# now we will create an array with data type of 4 byte int:\n",
    "x = np.array([1,2,3,4], dtype = 'i4')\n",
    "print(x)\n",
    "print(x.dtype)\n",
    "\n"
   ]
  },
  {
   "cell_type": "code",
   "execution_count": 19,
   "id": "dc34ef73-7fd7-4620-b505-1e5b5f2ba31e",
   "metadata": {},
   "outputs": [
    {
     "name": "stdout",
     "output_type": "stream",
     "text": [
      "[1 2 5]\n",
      "int32\n"
     ]
    }
   ],
   "source": [
    "# converting data type in existing array - astype()\n",
    "x = np.array([1.2,2.3,5.6])\n",
    "x1 = x.astype('i')\n",
    "print(x1)\n",
    "print(x1.dtype)\n",
    "\n"
   ]
  },
  {
   "cell_type": "code",
   "execution_count": 20,
   "id": "165e39a9-e1dd-4eda-b011-046d69062602",
   "metadata": {},
   "outputs": [
    {
     "name": "stdout",
     "output_type": "stream",
     "text": [
      "[1 2 3 4]\n",
      "[1 2 3 4]\n"
     ]
    }
   ],
   "source": [
    "# difference between numpy array copy and view.\n",
    "# we will make a copy, change in original array, and display both.\n",
    "siddhi = np.array([1,2,3,4])\n",
    "siddhi1 = siddhi.copy()\n",
    "print(siddhi)\n",
    "print(siddhi1)"
   ]
  },
  {
   "cell_type": "code",
   "execution_count": 22,
   "id": "c63aff1b-8bca-417e-b54b-39588dd6310d",
   "metadata": {},
   "outputs": [
    {
     "name": "stdout",
     "output_type": "stream",
     "text": [
      "[42  2  3  4]\n",
      "[42  2  3  4]\n"
     ]
    }
   ],
   "source": [
    "# now we will make a view, change original , display both\n",
    "siddhi = np.array([1,2,3,4])\n",
    "siddhi1 = siddhi.view()\n",
    "siddhi[0] = 42\n",
    "print(siddhi)\n",
    "print(siddhi1)"
   ]
  },
  {
   "cell_type": "code",
   "execution_count": 23,
   "id": "063a4fed-f8f6-4f17-98c8-ea5c7a46dbb1",
   "metadata": {},
   "outputs": [
    {
     "name": "stdout",
     "output_type": "stream",
     "text": [
      "(2, 3)\n"
     ]
    }
   ],
   "source": [
    "# shape of an array - the shape of an array is the number of elements in each dimensions\n",
    "# now we will try to get the shape of an array\n",
    "x = np.array([[1,2,3], [5,6,7]])\n",
    "print(x.shape) # In ths output(2,3) which means the array has two dimensions and it has 4 elements"
   ]
  },
  {
   "cell_type": "code",
   "execution_count": 26,
   "id": "ef75e17f-134c-4f0f-9d7f-1f591a4eef3b",
   "metadata": {},
   "outputs": [
    {
     "name": "stdout",
     "output_type": "stream",
     "text": [
      "[[[[[1 2 3 4]]]]]\n",
      "shape of array is (1, 1, 1, 1, 4)\n"
     ]
    }
   ],
   "source": [
    "# now we will create a 5 d using ndim :\n",
    "x = np.array([1,2,3,4], ndmin=5)\n",
    "print(x)\n",
    "print('shape of array is',x.shape)\n"
   ]
  },
  {
   "cell_type": "code",
   "execution_count": 28,
   "id": "2045dae4-9f71-485a-94ca-41f9af16fd5d",
   "metadata": {},
   "outputs": [
    {
     "name": "stdout",
     "output_type": "stream",
     "text": [
      "[[1 2 3]\n",
      " [4 5 6]\n",
      " [7 8 9]]\n"
     ]
    }
   ],
   "source": [
    "# reshaping - changing the shape of an array like adding or removing the elements\n",
    "# reshaping from 1D to 2D\n",
    "siddhi = np.array([1,2,3,4,5,6,7,8,9])\n",
    "siddhi1 = siddhi.reshape(3,3)\n",
    "print(siddhi1)\n"
   ]
  },
  {
   "cell_type": "code",
   "execution_count": 33,
   "id": "f373f318-60b1-4393-bf35-b1b417cb073f",
   "metadata": {},
   "outputs": [
    {
     "name": "stdout",
     "output_type": "stream",
     "text": [
      "[[[ 1  2]\n",
      "  [ 3  4]\n",
      "  [ 5  6]]\n",
      "\n",
      " [[ 7  8]\n",
      "  [ 9 10]\n",
      "  [11 12]]]\n"
     ]
    }
   ],
   "source": [
    "# reshaping from 1D to 3D\n",
    "siddhi = np.array([1,2,3,4,5,6,7,8,9,10,11,12])\n",
    "siddhi1 = siddhi.reshape(2,3,2)\n",
    "print(siddhi1)"
   ]
  },
  {
   "cell_type": "code",
   "execution_count": 34,
   "id": "143a0a43-115b-4f3b-8871-311f998c51e7",
   "metadata": {},
   "outputs": [
    {
     "name": "stdout",
     "output_type": "stream",
     "text": [
      "[1 2 3 4 5 6 7 8]\n"
     ]
    }
   ],
   "source": [
    "siddhi = np.array([1,2,3,4,5,6,7,8])\n",
    "print(siddhi.reshape(2,4).base)"
   ]
  },
  {
   "cell_type": "code",
   "execution_count": 35,
   "id": "f916f60f-6940-4bb1-96c3-cd1493780bd4",
   "metadata": {},
   "outputs": [
    {
     "name": "stdout",
     "output_type": "stream",
     "text": [
      "[[[1 2]\n",
      "  [3 4]]\n",
      "\n",
      " [[5 6]\n",
      "  [7 8]]]\n"
     ]
    }
   ],
   "source": [
    "# unknown dimension - you are only allowed to have one unknown dimension. pass -1\n",
    "siddhi = np.array([1,2,3,4,5,6,7,8])\n",
    "print(siddhi.reshape(2,2,-1))"
   ]
  },
  {
   "cell_type": "code",
   "execution_count": 36,
   "id": "52c0cc90-0072-41b0-bdc7-4da6099b64f1",
   "metadata": {},
   "outputs": [
    {
     "name": "stdout",
     "output_type": "stream",
     "text": [
      "[1 2 3 4 5 6]\n"
     ]
    }
   ],
   "source": [
    "# flattering the array by converting multidimensional array in 1D\n",
    "siddhi = np.array([[1,2,3],[4,5,6]])\n",
    "siddhi1 = siddhi.reshape(-1)\n",
    "print(siddhi1)"
   ]
  },
  {
   "cell_type": "code",
   "execution_count": 40,
   "id": "a299b867-14f1-41e8-9d0c-ac7ebd63aee0",
   "metadata": {},
   "outputs": [],
   "source": [
    "# there are alot of functions for changing the shapes of an array in numpy. like flatten, ravel and also rearranging the element tot90,flip, flipud.\n",
    "# they all are actually comes under advanced numpy"
   ]
  },
  {
   "cell_type": "code",
   "execution_count": 41,
   "id": "2c23501d-8c2d-4bdd-b9f2-11bc292f53e8",
   "metadata": {},
   "outputs": [
    {
     "name": "stdout",
     "output_type": "stream",
     "text": [
      "1\n",
      "2\n",
      "3\n"
     ]
    }
   ],
   "source": [
    "# Iterating array - going through the elements one by one like for loop\n",
    "# iterate the element of 1D\n",
    "x = np.array([1,2,3])\n",
    "for i in x:\n",
    "    print(i)"
   ]
  },
  {
   "cell_type": "code",
   "execution_count": 42,
   "id": "4503421e-6fce-439d-9f63-b0f66ee78334",
   "metadata": {},
   "outputs": [
    {
     "name": "stdout",
     "output_type": "stream",
     "text": [
      "[1 2 3]\n",
      "[4 5 6]\n"
     ]
    }
   ],
   "source": [
    "# iterate the element of 2D\n",
    "x = np.array([[1,2,3],[4,5,6]])\n",
    "for i in x:\n",
    "    print(i)"
   ]
  },
  {
   "cell_type": "code",
   "execution_count": 43,
   "id": "e3db8eb7-a6b7-4fda-bffa-37a2d879dc8c",
   "metadata": {},
   "outputs": [
    {
     "name": "stdout",
     "output_type": "stream",
     "text": [
      "1\n",
      "2\n",
      "3\n",
      "4\n",
      "5\n",
      "6\n"
     ]
    }
   ],
   "source": [
    "# Iterate on each scaler element of the 2D\n",
    "x = np.array([[1,2,3],[4,5,6]])\n",
    "for i in x:\n",
    "    for a in i:\n",
    "        print(a)"
   ]
  },
  {
   "cell_type": "code",
   "execution_count": 44,
   "id": "69d6bc83-8b2f-4be9-886f-7fba17cee713",
   "metadata": {},
   "outputs": [
    {
     "name": "stdout",
     "output_type": "stream",
     "text": [
      "[1 2 3]\n",
      "[4 5 6]\n"
     ]
    }
   ],
   "source": [
    "x = np.array([[1,2,3],[4,5,6]])\n",
    "for i in x:\n",
    "    print(i)"
   ]
  },
  {
   "cell_type": "code",
   "execution_count": 45,
   "id": "f5615fe1-7f37-4106-a2cc-2e33c94cd0bc",
   "metadata": {},
   "outputs": [
    {
     "name": "stdout",
     "output_type": "stream",
     "text": [
      "1\n",
      "2\n",
      "3\n",
      "4\n",
      "5\n",
      "6\n",
      "7\n",
      "8\n"
     ]
    }
   ],
   "source": [
    "# Iterating arrays using the nditer() function\n",
    "# now we will iterate on each scaler element\n",
    "\n",
    "x = np.array([[[1,2],[3,4],[5,6],[7,8]]])\n",
    "for i in np.nditer(x):\n",
    "    print(i)\n",
    "    "
   ]
  },
  {
   "cell_type": "code",
   "execution_count": 46,
   "id": "e2463b5a-8a3c-4485-8ed6-5a6668fa32f2",
   "metadata": {},
   "outputs": [
    {
     "name": "stdout",
     "output_type": "stream",
     "text": [
      "1\n",
      "3\n",
      "5\n",
      "7\n"
     ]
    }
   ],
   "source": [
    "# now we will iterate with different step sizes\n",
    "x = np.array([[1,2,3,4],[5,6,7,8]])\n",
    "for i in np.nditer(x[:,::2]):\n",
    "    print(i)\n",
    "    "
   ]
  },
  {
   "cell_type": "code",
   "execution_count": 47,
   "id": "d768c0e5-de91-4315-bcd0-1eceedcb9fe8",
   "metadata": {},
   "outputs": [
    {
     "name": "stdout",
     "output_type": "stream",
     "text": [
      "[1 2 3 4 5 6]\n"
     ]
    }
   ],
   "source": [
    "# joining the numpy array - here for this we will pass concatenate()\n",
    "x = np.array([1,2,3])\n",
    "x1 = np.array([4,5,6])\n",
    "concate = np.concatenate((x,x1))\n",
    "print(concate)"
   ]
  },
  {
   "cell_type": "code",
   "execution_count": 48,
   "id": "48bb81d0-eb78-4280-a156-607ea189687e",
   "metadata": {},
   "outputs": [
    {
     "name": "stdout",
     "output_type": "stream",
     "text": [
      "[[1 2 5 6]\n",
      " [3 4 7 8]]\n"
     ]
    }
   ],
   "source": [
    "# joining of 2D arrays along with rows(axis = 1)\n",
    "x = ([[1,2],[3,4]])\n",
    "x1 = np.array([[5,6],[7,8]])\n",
    "concate = np.concatenate((x,x1),axis=1)\n",
    "print(concate)\n"
   ]
  },
  {
   "cell_type": "code",
   "execution_count": 50,
   "id": "27405d6e-dab2-47f9-8eca-b3016e030448",
   "metadata": {},
   "outputs": [
    {
     "name": "stdout",
     "output_type": "stream",
     "text": [
      "[[1 4]\n",
      " [2 5]\n",
      " [3 6]]\n"
     ]
    }
   ],
   "source": [
    "# joining array using the stack function\n",
    "x = np.array([1,2,3])\n",
    "x1 = np.array([4,5,6])\n",
    "concate = np.stack((x,x1), axis=1)\n",
    "print(concate)"
   ]
  },
  {
   "cell_type": "code",
   "execution_count": 51,
   "id": "9b42347c-f784-427f-8082-1ed48807ccbd",
   "metadata": {},
   "outputs": [
    {
     "name": "stdout",
     "output_type": "stream",
     "text": [
      "[1 2 3 4 5 6]\n"
     ]
    }
   ],
   "source": [
    "# stacking along with rows: hstack()\n",
    "x = np.array([1,2,3])\n",
    "x1 = np.array([4,5,6])\n",
    "concate = np.hstack((x,x1))\n",
    "print(concate)"
   ]
  },
  {
   "cell_type": "code",
   "execution_count": 52,
   "id": "7db92caa-b07a-4357-9df4-23bba8253c3e",
   "metadata": {},
   "outputs": [
    {
     "name": "stdout",
     "output_type": "stream",
     "text": [
      "[[1 2 3]\n",
      " [4 5 6]]\n"
     ]
    }
   ],
   "source": [
    "# stacking along with column\n",
    "x = np.array([1,2,3])\n",
    "x1 = np.array([4,5,6])\n",
    "concate = np.vstack((x,x1))\n",
    "print(concate)"
   ]
  },
  {
   "cell_type": "code",
   "execution_count": 53,
   "id": "b9fd8f11-343b-45b1-947e-a8e7862b4ef5",
   "metadata": {},
   "outputs": [
    {
     "name": "stdout",
     "output_type": "stream",
     "text": [
      "[[[1 4]\n",
      "  [2 5]\n",
      "  [3 6]]]\n"
     ]
    }
   ],
   "source": [
    "# stacking along with height(depth)\n",
    "x = np.array([1,2,3])\n",
    "x1 = np.array([4,5,6])\n",
    "concate = np.dstack((x,x1))\n",
    "print(concate)"
   ]
  },
  {
   "cell_type": "code",
   "execution_count": 55,
   "id": "f8d13b35-50ac-4a72-bf51-9f6682ef6787",
   "metadata": {},
   "outputs": [
    {
     "name": "stdout",
     "output_type": "stream",
     "text": [
      "[array([1, 2]), array([3, 4]), array([5]), array([6])]\n"
     ]
    }
   ],
   "source": [
    "# splitting arrays in numpy - it is reverse to joining,breaking the array.\n",
    "# array_split()\n",
    "x = np.array([1,2,3,4,5,6])\n",
    "x1 = np.array_split(x,4)\n",
    "print(x1)"
   ]
  },
  {
   "cell_type": "code",
   "execution_count": 56,
   "id": "4c717acd-20b8-4f53-a68a-f40e69cae584",
   "metadata": {},
   "outputs": [
    {
     "name": "stdout",
     "output_type": "stream",
     "text": [
      "[1 2]\n",
      "[3 4]\n",
      "[5 6]\n"
     ]
    }
   ],
   "source": [
    "# split into array with index\n",
    "x = np.array([1,2,3,4,5,6])\n",
    "x1 = np.array_split(x,3)\n",
    "print(x1[0])\n",
    "print(x1[1])\n",
    "print(x1[2])"
   ]
  },
  {
   "cell_type": "code",
   "execution_count": 57,
   "id": "b129e71e-8dcd-4795-a7a6-c5040880080e",
   "metadata": {},
   "outputs": [
    {
     "name": "stdout",
     "output_type": "stream",
     "text": [
      "(array([3, 4, 6], dtype=int64),)\n"
     ]
    }
   ],
   "source": [
    "# searching array - you can search an array for a certain val and return the indexes then get the match by using where()\n",
    "x = np.array([1,2,3,4,4,6,4])\n",
    "x1 = np.where(x==4)\n",
    "print(x1)"
   ]
  },
  {
   "cell_type": "code",
   "execution_count": 58,
   "id": "6fe98fad-3ba9-4ee3-a182-787c1f0f970b",
   "metadata": {},
   "outputs": [
    {
     "name": "stdout",
     "output_type": "stream",
     "text": [
      "(array([1, 3, 5, 7], dtype=int64),)\n"
     ]
    }
   ],
   "source": [
    "# now we will find the indexes where the values are even:\n",
    "x = np.array([1,2,3,4,5,6,7,8])\n",
    "x1 = np.where(x%2 == 0)\n",
    "print(x1)"
   ]
  },
  {
   "cell_type": "code",
   "execution_count": 59,
   "id": "96e4f673-eef5-41ce-9759-3ea0d9a2d684",
   "metadata": {},
   "outputs": [
    {
     "name": "stdout",
     "output_type": "stream",
     "text": [
      "1\n"
     ]
    }
   ],
   "source": [
    "# searchsorted() - perform binary search in array\n",
    "# we will now find the indesx where the value 7 should be inserted\n",
    "x = np.array([6,7,8,9])\n",
    "x1 = np.searchsorted(x,7)\n",
    "print(x1)"
   ]
  },
  {
   "cell_type": "code",
   "execution_count": 60,
   "id": "07070ad1-5386-46a8-a9fd-ed39610c7eab",
   "metadata": {},
   "outputs": [
    {
     "name": "stdout",
     "output_type": "stream",
     "text": [
      "[1 2 3 4]\n"
     ]
    }
   ],
   "source": [
    "# sort() - the numpy ndarray object has a function which is called sort(), and this will sort a specified array\n",
    "x = np.array([3,2,1,4])\n",
    "print(np.sort(x))  #this method is like the copy"
   ]
  },
  {
   "cell_type": "code",
   "execution_count": 61,
   "id": "ef9528cf-fad3-4ba1-b952-2dc29439d15c",
   "metadata": {},
   "outputs": [
    {
     "name": "stdout",
     "output_type": "stream",
     "text": [
      "['apple' 'banana' 'cherry']\n"
     ]
    }
   ],
   "source": [
    "# short the array alphabatically\n",
    "x = np.array(['cherry','banana','apple'])\n",
    "print(np.sort(x))"
   ]
  },
  {
   "cell_type": "code",
   "execution_count": 63,
   "id": "314056f9-bf97-4d10-adb9-e6e5fbcc6aa3",
   "metadata": {},
   "outputs": [
    {
     "name": "stdout",
     "output_type": "stream",
     "text": [
      "[42 55]\n"
     ]
    }
   ],
   "source": [
    "# getting some elements out of an existing a new array and creating a new array is called filtering\n",
    "# A boolean index list is a list of boolean corresponding to indexes in the array\n",
    "# create an array from the element on index 0 to 2:\n",
    "x = np.array([42,44,24,55])\n",
    "x1 = [True,False,False,True]\n",
    "filter = x[x1]\n",
    "print(filter)\n"
   ]
  },
  {
   "cell_type": "code",
   "execution_count": 72,
   "id": "11ed9cd5-20bb-4568-aa7f-3b22b12414d7",
   "metadata": {},
   "outputs": [
    {
     "name": "stdout",
     "output_type": "stream",
     "text": [
      "[True, True, True, False]\n",
      "[42 44 24 55]\n"
     ]
    }
   ],
   "source": [
    "# now we will create a filter array\n",
    "# that will return only values higher than 42\n",
    "x = np.array([42,44,24,55])\n",
    "emptyx = []\n",
    "for i in x:\n",
    "    if i%2 == 0:\n",
    "        emptyx.append(True)\n",
    "    else:\n",
    "        emptyx.append(False)\n",
    "y = x[emptyx]\n",
    "print(emptyx)\n",
    "print(x)\n",
    "    "
   ]
  },
  {
   "cell_type": "code",
   "execution_count": 73,
   "id": "afe09543-1f88-4c22-831a-7198758d6476",
   "metadata": {},
   "outputs": [
    {
     "name": "stdout",
     "output_type": "stream",
     "text": [
      "[False, False, True, True, True, True, True]\n",
      "[3 4 5 6 7]\n"
     ]
    }
   ],
   "source": [
    "# create a filter array that will return only even elements from original array\n",
    "x = np.array([1,2,3,4,5,6,7])\n",
    "emptyx = []\n",
    "for i in x:\n",
    "    if i > 2:\n",
    "        emptyx.append(True)\n",
    "    else:\n",
    "        emptyx.append(False)\n",
    "new = x[emptyx]\n",
    "print(emptyx)\n",
    "print(new)"
   ]
  },
  {
   "cell_type": "code",
   "execution_count": 76,
   "id": "600c9637-29d6-4a9a-8620-67c0a1c98e3d",
   "metadata": {},
   "outputs": [
    {
     "name": "stdout",
     "output_type": "stream",
     "text": [
      "31\n"
     ]
    }
   ],
   "source": [
    "# random meaning - something that can not be predicted logically\n",
    "# now we will generate a random number from 0 to 100\n",
    "from numpy import random\n",
    "x = random.randint(100)\n",
    "print(x)"
   ]
  },
  {
   "cell_type": "code",
   "execution_count": 77,
   "id": "e361b8d2-2d48-4dff-8e49-18611b486609",
   "metadata": {},
   "outputs": [
    {
     "name": "stdout",
     "output_type": "stream",
     "text": [
      "0.7828929484367602\n"
     ]
    }
   ],
   "source": [
    "# you can also generate float() via rand() from 0 to 1\n",
    "x = random.rand()\n",
    "print(x)"
   ]
  },
  {
   "cell_type": "code",
   "execution_count": 78,
   "id": "51747451-9c3c-4df3-b6e4-439cff21f108",
   "metadata": {},
   "outputs": [
    {
     "name": "stdout",
     "output_type": "stream",
     "text": [
      "[23 65 77 91 68]\n"
     ]
    }
   ],
   "source": [
    "# you can also generate random array\n",
    "# we will generate a 1D array containing 5 random int from 0 to 100:\n",
    "x = random.randint(100,size=(5))\n",
    "print(x)"
   ]
  },
  {
   "cell_type": "code",
   "execution_count": 80,
   "id": "69240765-9034-45a9-bdc0-68d9da5340dd",
   "metadata": {},
   "outputs": [
    {
     "name": "stdout",
     "output_type": "stream",
     "text": [
      "[[48 68 53 75 20]\n",
      " [84 61 23 72 96]\n",
      " [15 51 31 38 69]]\n"
     ]
    }
   ],
   "source": [
    "# we will generate a 2D array with 3 rows, each row containing 0 to 100:\n",
    "x = random.randint(100, size=(3,5))\n",
    "print(x)"
   ]
  },
  {
   "cell_type": "code",
   "execution_count": 82,
   "id": "c8bc86de-47d2-47cf-92e5-bd631c7b24ba",
   "metadata": {},
   "outputs": [
    {
     "name": "stdout",
     "output_type": "stream",
     "text": [
      "9\n"
     ]
    }
   ],
   "source": [
    "# you can also generate random numbers from an array\n",
    "#choice()\n",
    "x = random.choice([3,5,7,9,1,4,6])\n",
    "print(x)"
   ]
  },
  {
   "cell_type": "code",
   "execution_count": 83,
   "id": "e915c1a6-db00-4ed7-a9d9-702175ed164e",
   "metadata": {},
   "outputs": [
    {
     "name": "stdout",
     "output_type": "stream",
     "text": [
      "[[8 1 7 8]\n",
      " [7 7 6 5]]\n"
     ]
    }
   ],
   "source": [
    "y = random.choice([1,2,4,5,7,8,8,6], size=(2,4))\n",
    "print(y)\n"
   ]
  },
  {
   "cell_type": "code",
   "execution_count": 84,
   "id": "5566748f-fb0d-4d38-b17d-73569f6c5789",
   "metadata": {},
   "outputs": [
    {
     "name": "stdout",
     "output_type": "stream",
     "text": [
      "[5 5 5 7 3 7 5 5 7 7 7 3 7 3 3 5 7 7 5 5 3 7 7 7 7 3 3 3 5 5 7 7 7 5 5 7 7\n",
      " 3 3 3 7 7 5 7 7 7 3 5 7 7 7 7 5 7 5 7 3 7 5 7 7 7 7 5 5 5 5 5 7 7 3 7 7 7\n",
      " 5 7 5 5 7 5 7 3 7 3 5 7 7 5 7 7 5 7 7 7 3 7 7 5 5 7]\n"
     ]
    }
   ],
   "source": [
    "# data distribution is a list of all possible values and how often each value occur.\n",
    "# such lista are important when working with statistics and data science\n",
    "# random data distribution: probability funtion\n",
    "# now we will generate 1 D with 100 values where every value has to be 3,5,7,9\n",
    "# The probility for the value 3 is set be 0.1\n",
    "# The probility for the value 5 is set be 0.3\n",
    "# The probility for the value 7 is set be 0.6\n",
    "# The probility for the value 9 is set be 0\n",
    "# The sum of all probability numbers should be \"1\"\n",
    "from numpy import random\n",
    "x = random.choice([3,5,7,9], p=[0.1,0.3,0.6,0.0],size=(100))\n",
    "print(x)\n"
   ]
  },
  {
   "cell_type": "code",
   "execution_count": 85,
   "id": "876b94d8-2b6a-4f4a-a4e1-7d87ae1ba35c",
   "metadata": {},
   "outputs": [
    {
     "name": "stdout",
     "output_type": "stream",
     "text": [
      "[[7 7 7 7 5]\n",
      " [7 5 5 3 3]\n",
      " [7 7 5 5 5]]\n"
     ]
    }
   ],
   "source": [
    "# now we will return 2D with 3 rows each containing 5 values:\n",
    "x = random.choice([3,5,7,9], p=[0.1,0.3,0.6,0.0],size=(3,5))\n",
    "print(x)"
   ]
  },
  {
   "cell_type": "code",
   "execution_count": 86,
   "id": "ebb918e6-cbad-4588-a6a0-e8ef554464d9",
   "metadata": {},
   "outputs": [
    {
     "name": "stdout",
     "output_type": "stream",
     "text": [
      "[1 2 5 4 3]\n"
     ]
    }
   ],
   "source": [
    "# random permutation : permutation refers to an arrangement of elements like [3,2,1] is permutation of [1,2,3] and vice versa.\n",
    "# the numpy random module provides 2 methods: shuffle() and permutation()\n",
    "# shuffle methods make changes to original array\n",
    "# now we will randomly shuffle elements for the below array:\n",
    "x = np.array([1,2,3,4,5])\n",
    "random.shuffle(x)\n",
    "print(x)"
   ]
  },
  {
   "cell_type": "code",
   "execution_count": 89,
   "id": "b771571c-be0d-4b98-8f42-b559517eeec9",
   "metadata": {},
   "outputs": [
    {
     "name": "stdout",
     "output_type": "stream",
     "text": [
      "[6 3 7 2 4]\n"
     ]
    }
   ],
   "source": [
    "# now we will generate a permutation of elements for the below array\n",
    "# permutation methods make changes to copied array\n",
    "# the permutation method leaves the original array unchanged\n",
    "x = np.array([2,3,4,6,7])\n",
    "print(random.permutation(x))"
   ]
  },
  {
   "cell_type": "code",
   "execution_count": 1,
   "id": "b15c085b-7b02-4b25-b567-39335cbad414",
   "metadata": {},
   "outputs": [
    {
     "ename": "NameError",
     "evalue": "name 'df' is not defined",
     "output_type": "error",
     "traceback": [
      "\u001b[1;31m---------------------------------------------------------------------------\u001b[0m",
      "\u001b[1;31mNameError\u001b[0m                                 Traceback (most recent call last)",
      "Cell \u001b[1;32mIn[1], line 13\u001b[0m\n\u001b[0;32m     11\u001b[0m \u001b[38;5;28;01mimport\u001b[39;00m \u001b[38;5;21;01mmatplotlib\u001b[39;00m\u001b[38;5;21;01m.\u001b[39;00m\u001b[38;5;21;01mpyplot\u001b[39;00m \u001b[38;5;28;01mas\u001b[39;00m \u001b[38;5;21;01mplt\u001b[39;00m\n\u001b[0;32m     12\u001b[0m \u001b[38;5;28;01mimport\u001b[39;00m \u001b[38;5;21;01mseaborn\u001b[39;00m \u001b[38;5;28;01mas\u001b[39;00m \u001b[38;5;21;01msns\u001b[39;00m\n\u001b[1;32m---> 13\u001b[0m sns\u001b[38;5;241m.\u001b[39mdistplot(df[\u001b[38;5;241m0\u001b[39m,\u001b[38;5;241m1\u001b[39m,\u001b[38;5;241m2\u001b[39m,\u001b[38;5;241m3\u001b[39m,\u001b[38;5;241m4\u001b[39m,\u001b[38;5;241m5\u001b[39m])\n\u001b[0;32m     14\u001b[0m plt\u001b[38;5;241m.\u001b[39mshow()\n",
      "\u001b[1;31mNameError\u001b[0m: name 'df' is not defined"
     ]
    }
   ],
   "source": [
    "#18.numpyseaborn\n",
    "import numpy as np\n",
    "import pandas as pd\n",
    "import matplotlib.pyplot as plt\n",
    "%matplotlib inline\n",
    "import seaborn as sns\n",
    "\n",
    "# matplotlib(pyplot)- seaborn\n",
    "# seaborn is a library that uses matplotlib underneath to plot graph ir pyplot\n",
    "# distplot - distribution plot(curve plot - histogram)\n",
    "import matplotlib.pyplot as plt\n",
    "import seaborn as sns\n",
    "sns.distplot(df[0,1,2,3,4,5])\n",
    "plt.show()"
   ]
  },
  {
   "cell_type": "code",
   "execution_count": 93,
   "id": "8314be4d-4add-4f46-8193-3a2545ab074d",
   "metadata": {},
   "outputs": [
    {
     "name": "stderr",
     "output_type": "stream",
     "text": [
      "C:\\Users\\vruta\\AppData\\Local\\Temp\\ipykernel_13672\\1340483144.py:2: UserWarning: \n",
      "\n",
      "`distplot` is a deprecated function and will be removed in seaborn v0.14.0.\n",
      "\n",
      "Please adapt your code to use either `displot` (a figure-level function with\n",
      "similar flexibility) or `kdeplot` (an axes-level function for kernel density plots).\n",
      "\n",
      "For a guide to updating your code to use the new functions, please see\n",
      "https://gist.github.com/mwaskom/de44147ed2974457ad6372750bbe5751\n",
      "\n",
      "  sns.distplot([0,1,2,3,4,5],hist=False)\n",
      "C:\\ProgramData\\anaconda3\\Lib\\site-packages\\seaborn\\_oldcore.py:1119: FutureWarning: use_inf_as_na option is deprecated and will be removed in a future version. Convert inf values to NaN before operating instead.\n",
      "  with pd.option_context('mode.use_inf_as_na', True):\n"
     ]
    },
    {
     "data": {
      "image/png": "[encoded data removed]",
      "text/plain": [
       "<Figure size 640x480 with 1 Axes>"
      ]
     },
     "metadata": {},
     "output_type": "display_data"
    }
   ],
   "source": [
    "# plotting a displot without the histogram\n",
    "sns.distplot([0,1,2,3,4,5],hist=False)\n",
    "plt.show()"
   ]
  },
  {
   "cell_type": "code",
   "execution_count": null,
   "id": "832615ac-c31d-4f47-b48e-603bdb4e5551",
   "metadata": {},
   "outputs": [],
   "source": [
    "# normal(gaussian) distribution : very important.(German mathematician gausian name - invention)- part of the prediction - data science\n",
    "# random.normal() method - loc()min-peak level high,scale(for check the flat, static normal), size\n",
    "from numpy import random\n",
    "x = random.normal()"
   ]
  },
  {
   "cell_type": "code",
   "execution_count": 2,
   "id": "85e78d71-0c6f-47a7-bb65-9d0565ef84a0",
   "metadata": {},
   "outputs": [
    {
     "name": "stdout",
     "output_type": "stream",
     "text": [
      "[[ 0.48195368  0.34920016 -0.88682923]\n",
      " [ 0.30290451  0.87614081 -0.68906034]]\n"
     ]
    }
   ],
   "source": [
    "# normal(gaussian) distribution : very important.(German mathematician gausian name - invention)- part of the prediction - data science\n",
    "# random.normal() method - loc()mean-peak level high,scale(for check the flat, static normal-standard deviation), size\n",
    "# we are generating a random normal distribution of size 2*3\n",
    "from numpy import random\n",
    "x = random.normal(size=(2,3))\n",
    "print(x)"
   ]
  },
  {
   "cell_type": "code",
   "execution_count": 3,
   "id": "72f8dcbf-9f0e-45d8-99d3-903f8b4944e4",
   "metadata": {},
   "outputs": [
    {
     "name": "stdout",
     "output_type": "stream",
     "text": [
      "[[-1.33325975  1.75846889  1.90111531]\n",
      " [ 2.98769625  2.3937277   1.23227023]]\n"
     ]
    }
   ],
   "source": [
    "# here we will generate a random normal dist of size 2*3 with mean at 1 and scale(standard deviation) of 2:\n",
    "from numpy import random\n",
    "x = random.normal(loc=1,scale=2,size=(2,3))\n",
    "print(x)"
   ]
  },
  {
   "cell_type": "code",
   "execution_count": 4,
   "id": "8b7c5e4a-d64e-43b4-bb9c-28640edf4f10",
   "metadata": {},
   "outputs": [],
   "source": [
    "# visualization of normal distibribution\n",
    "from numpy import random\n",
    "import matplotlib.pyplot as plt\n",
    "import seaborn as sns"
   ]
  },
  {
   "cell_type": "code",
   "execution_count": 5,
   "id": "8ae798a1-8341-41bb-9daf-da258032ab09",
   "metadata": {},
   "outputs": [
    {
     "name": "stderr",
     "output_type": "stream",
     "text": [
      "C:\\ProgramData\\anaconda3\\Lib\\site-packages\\seaborn\\_oldcore.py:1119: FutureWarning: use_inf_as_na option is deprecated and will be removed in a future version. Convert inf values to NaN before operating instead.\n",
      "  with pd.option_context('mode.use_inf_as_na', True):\n"
     ]
    },
    {
     "data": {
      "image/png": "[encoded data removed]",
      "text/plain": [
       "<Figure size 500x500 with 1 Axes>"
      ]
     },
     "metadata": {},
     "output_type": "display_data"
    }
   ],
   "source": [
    "sns.displot(random.normal(size=100))\n",
    "plt.show()"
   ]
  },
  {
   "cell_type": "code",
   "execution_count": 6,
   "id": "6ebc51fc-ad25-43da-b8d2-65cf3f52571f",
   "metadata": {},
   "outputs": [],
   "source": [
    "# The curve of the normal dist is also called as bell curve"
   ]
  },
  {
   "cell_type": "code",
   "execution_count": 7,
   "id": "102a1aad-7d7c-4b02-a94d-1e9783903c62",
   "metadata": {},
   "outputs": [
    {
     "name": "stdout",
     "output_type": "stream",
     "text": [
      "[3 4 5 5 3 5 9 7 4 5]\n"
     ]
    }
   ],
   "source": [
    "# Binomial Distribution :(outcome which we get, that is a binary scenarion. it means, coin toss: head or tail it means discrete distribution - binary scenarion(output)\n",
    "# param - creation of probilility - n(number of trials), p(probability), size(shape-returned array(output))\n",
    "# given 10 trials for a coin which will generate 10 points:\n",
    "x = random.binomial(n=10, p=0.5, size=10)\n",
    "print(x)"
   ]
  },
  {
   "cell_type": "code",
   "execution_count": 8,
   "id": "f2d61da6-1d87-493c-8443-0df0335f7523",
   "metadata": {},
   "outputs": [
    {
     "name": "stderr",
     "output_type": "stream",
     "text": [
      "C:\\ProgramData\\anaconda3\\Lib\\site-packages\\seaborn\\_oldcore.py:1119: FutureWarning: use_inf_as_na option is deprecated and will be removed in a future version. Convert inf values to NaN before operating instead.\n",
      "  with pd.option_context('mode.use_inf_as_na', True):\n"
     ]
    },
    {
     "data": {
      "image/png": "[encoded data removed]",
      "text/plain": [
       "<Figure size 500x500 with 1 Axes>"
      ]
     },
     "metadata": {},
     "output_type": "display_data"
    }
   ],
   "source": [
    "# visualization of binomial dist\n",
    "sns.displot(random.binomial(n=10, p=0.5, size=500),kde=False)\n",
    "plt.show()"
   ]
  },
  {
   "cell_type": "code",
   "execution_count": 9,
   "id": "9ca48ba6-8e9e-4c73-9b70-b3323feefba5",
   "metadata": {},
   "outputs": [
    {
     "name": "stderr",
     "output_type": "stream",
     "text": [
      "C:\\ProgramData\\anaconda3\\Lib\\site-packages\\seaborn\\_oldcore.py:1119: FutureWarning: use_inf_as_na option is deprecated and will be removed in a future version. Convert inf values to NaN before operating instead.\n",
      "  with pd.option_context('mode.use_inf_as_na', True):\n",
      "C:\\ProgramData\\anaconda3\\Lib\\site-packages\\seaborn\\_oldcore.py:1119: FutureWarning: use_inf_as_na option is deprecated and will be removed in a future version. Convert inf values to NaN before operating instead.\n",
      "  with pd.option_context('mode.use_inf_as_na', True):\n"
     ]
    },
    {
     "data": {
      "image/png": "[encoded data removed]",
      "text/plain": [
       "<Figure size 500x500 with 1 Axes>"
      ]
     },
     "metadata": {},
     "output_type": "display_data"
    },
    {
     "data": {
      "image/png": "[encoded data removed]",
      "text/plain": [
       "<Figure size 500x500 with 1 Axes>"
      ]
     },
     "metadata": {},
     "output_type": "display_data"
    }
   ],
   "source": [
    "# difference between normal and binomial - normal(continous) and binomial(discrete)\n",
    "# i use 500 datapoint for bnomial and under 100 datapoint for normal dist\n",
    "import numpy as np\n",
    "import pandas as pd\n",
    "import matplotlib.pyplot as plt\n",
    "import seaborn as sns\n",
    "from numpy import random\n",
    "sns.displot(random.normal(loc=50, scale=5, size=1000),label = 'normal')\n",
    "sns.displot(random.binomial(n=100, p = 0.5, size=1000), label='binomial')\n",
    "plt.show()"
   ]
  },
  {
   "cell_type": "code",
   "execution_count": 10,
   "id": "f3f754c0-b131-4141-9adf-91b0c7f26682",
   "metadata": {},
   "outputs": [
    {
     "name": "stdout",
     "output_type": "stream",
     "text": [
      "[3 4 5 5 3 5 9 7 4 5]\n"
     ]
    }
   ],
   "source": [
    "# 21. Numpy Poisson Distrinution : It estimate how many time and event can happen.\n",
    "# parameter - lam(number of occurance or rate), size\n",
    "# generate a random 1*10 dist for the occurance 2\n",
    "from numpy import random\n",
    "X = random.poisson(lam=2, size=10)\n",
    "print(x)"
   ]
  },
  {
   "cell_type": "code",
   "execution_count": 11,
   "id": "da53f92e-d15b-442f-9410-f848cf0a0e70",
   "metadata": {},
   "outputs": [
    {
     "name": "stderr",
     "output_type": "stream",
     "text": [
      "C:\\Users\\vruta\\AppData\\Local\\Temp\\ipykernel_21524\\2971155311.py:5: UserWarning: \n",
      "\n",
      "`distplot` is a deprecated function and will be removed in seaborn v0.14.0.\n",
      "\n",
      "Please adapt your code to use either `displot` (a figure-level function with\n",
      "similar flexibility) or `histplot` (an axes-level function for histograms).\n",
      "\n",
      "For a guide to updating your code to use the new functions, please see\n",
      "https://gist.github.com/mwaskom/de44147ed2974457ad6372750bbe5751\n",
      "\n",
      "  sns.distplot(random.poisson(lam=2, size=1000), kde=False)\n"
     ]
    },
    {
     "data": {
      "image/png": "[encoded data removed]",
      "text/plain": [
       "<Figure size 640x480 with 1 Axes>"
      ]
     },
     "metadata": {},
     "output_type": "display_data"
    }
   ],
   "source": [
    "# visualization of poisson dist\n",
    "from numpy import random\n",
    "import matplotlib.pyplot as plt\n",
    "import seaborn as ans\n",
    "sns.distplot(random.poisson(lam=2, size=1000), kde=False)\n",
    "plt.show()\n"
   ]
  },
  {
   "cell_type": "code",
   "execution_count": 12,
   "id": "53e47d34-b6c4-432a-9f23-d5082d8f6df2",
   "metadata": {},
   "outputs": [
    {
     "name": "stderr",
     "output_type": "stream",
     "text": [
      "C:\\Users\\vruta\\AppData\\Local\\Temp\\ipykernel_21524\\3848256666.py:2: UserWarning: \n",
      "\n",
      "`distplot` is a deprecated function and will be removed in seaborn v0.14.0.\n",
      "\n",
      "Please adapt your code to use either `displot` (a figure-level function with\n",
      "similar flexibility) or `histplot` (an axes-level function for histograms).\n",
      "\n",
      "For a guide to updating your code to use the new functions, please see\n",
      "https://gist.github.com/mwaskom/de44147ed2974457ad6372750bbe5751\n",
      "\n",
      "  sns.distplot(random.normal(loc=50, scale=7, size=10000), label='Normal')\n",
      "C:\\ProgramData\\anaconda3\\Lib\\site-packages\\seaborn\\_oldcore.py:1119: FutureWarning: use_inf_as_na option is deprecated and will be removed in a future version. Convert inf values to NaN before operating instead.\n",
      "  with pd.option_context('mode.use_inf_as_na', True):\n",
      "C:\\Users\\vruta\\AppData\\Local\\Temp\\ipykernel_21524\\3848256666.py:3: UserWarning: \n",
      "\n",
      "`distplot` is a deprecated function and will be removed in seaborn v0.14.0.\n",
      "\n",
      "Please adapt your code to use either `displot` (a figure-level function with\n",
      "similar flexibility) or `histplot` (an axes-level function for histograms).\n",
      "\n",
      "For a guide to updating your code to use the new functions, please see\n",
      "https://gist.github.com/mwaskom/de44147ed2974457ad6372750bbe5751\n",
      "\n",
      "  sns.distplot(random.poisson(lam=50, size=1000),label='Poisson')\n",
      "C:\\ProgramData\\anaconda3\\Lib\\site-packages\\seaborn\\_oldcore.py:1119: FutureWarning: use_inf_as_na option is deprecated and will be removed in a future version. Convert inf values to NaN before operating instead.\n",
      "  with pd.option_context('mode.use_inf_as_na', True):\n"
     ]
    },
    {
     "data": {
      "image/png": "[encoded data removed]",
      "text/plain": [
       "<Figure size 640x480 with 1 Axes>"
      ]
     },
     "metadata": {},
     "output_type": "display_data"
    }
   ],
   "source": [
    "# presenting both the plots in same figure normal and poisson\n",
    "sns.distplot(random.normal(loc=50, scale=7, size=10000), label='Normal')\n",
    "sns.distplot(random.poisson(lam=50, size=1000),label='Poisson')\n",
    "plt.show()"
   ]
  },
  {
   "cell_type": "code",
   "execution_count": 13,
   "id": "2a7d1eb9-311b-491d-84ee-a421d226cfce",
   "metadata": {},
   "outputs": [],
   "source": [
    "# n*p == lam"
   ]
  },
  {
   "cell_type": "code",
   "execution_count": 14,
   "id": "ea374193-2f79-4756-aa57-66537e8b4839",
   "metadata": {},
   "outputs": [
    {
     "name": "stdout",
     "output_type": "stream",
     "text": [
      "[[0.44563335 0.28637382 0.56794289]\n",
      " [0.20581654 0.84817858 0.37165842]]\n"
     ]
    }
   ],
   "source": [
    "# 22. Uniform Distribution : it is only made for probability(p)\n",
    "# param = a(lower bound 0.0), b(upper bound 1.0), size\n",
    "from numpy import random\n",
    "x = random.uniform(size=(2,3))\n",
    "print(x)"
   ]
  },
  {
   "cell_type": "code",
   "execution_count": 15,
   "id": "0ab53f97-d5c0-4265-99eb-bc15fa6710d5",
   "metadata": {},
   "outputs": [
    {
     "name": "stderr",
     "output_type": "stream",
     "text": [
      "C:\\ProgramData\\anaconda3\\Lib\\site-packages\\seaborn\\_oldcore.py:1119: FutureWarning: use_inf_as_na option is deprecated and will be removed in a future version. Convert inf values to NaN before operating instead.\n",
      "  with pd.option_context('mode.use_inf_as_na', True):\n"
     ]
    },
    {
     "data": {
      "image/png": "[encoded data removed]",
      "text/plain": [
       "<Figure size 500x500 with 1 Axes>"
      ]
     },
     "metadata": {},
     "output_type": "display_data"
    }
   ],
   "source": [
    "# visualization of uniform dist\n",
    "from numpy import random\n",
    "import matplotlib.pyplot as plt\n",
    "import seaborn as sns\n",
    "sns.displot(random.uniform(size=1000))\n",
    "plt.show()"
   ]
  },
  {
   "cell_type": "code",
   "execution_count": 16,
   "id": "f7eaa730-9551-47ed-a219-37f0dd9d1ae8",
   "metadata": {},
   "outputs": [
    {
     "name": "stdout",
     "output_type": "stream",
     "text": [
      "[[ 0.38844957  0.10247054  1.93009384]\n",
      " [-2.39325014  3.78342917  5.52143274]]\n"
     ]
    }
   ],
   "source": [
    "# 23. Numpy Logistic Distribution :describe growth it is basically imp in regression and nural network\n",
    "# parameter : loc(mean - 0),scale(standard deviation, 1), size\n",
    "# draw 2*2 samples of logistic with mean at 1 and stddev 2.0\n",
    "from numpy import random\n",
    "x = random.logistic(loc=1, scale=2, size=(2,3))\n",
    "print(x)"
   ]
  },
  {
   "cell_type": "code",
   "execution_count": 17,
   "id": "a40fa194-91c6-4624-98f9-86cc43b64e73",
   "metadata": {},
   "outputs": [
    {
     "name": "stderr",
     "output_type": "stream",
     "text": [
      "C:\\Users\\vruta\\AppData\\Local\\Temp\\ipykernel_21524\\1899503029.py:2: UserWarning: \n",
      "\n",
      "`distplot` is a deprecated function and will be removed in seaborn v0.14.0.\n",
      "\n",
      "Please adapt your code to use either `displot` (a figure-level function with\n",
      "similar flexibility) or `histplot` (an axes-level function for histograms).\n",
      "\n",
      "For a guide to updating your code to use the new functions, please see\n",
      "https://gist.github.com/mwaskom/de44147ed2974457ad6372750bbe5751\n",
      "\n",
      "  sns.distplot(random.logistic(size=1000))\n",
      "C:\\ProgramData\\anaconda3\\Lib\\site-packages\\seaborn\\_oldcore.py:1119: FutureWarning: use_inf_as_na option is deprecated and will be removed in a future version. Convert inf values to NaN before operating instead.\n",
      "  with pd.option_context('mode.use_inf_as_na', True):\n"
     ]
    },
    {
     "data": {
      "image/png": "[encoded data removed]",
      "text/plain": [
       "<Figure size 640x480 with 1 Axes>"
      ]
     },
     "metadata": {},
     "output_type": "display_data"
    }
   ],
   "source": [
    "# visualization of logistic dist\n",
    "sns.distplot(random.logistic(size=1000))\n",
    "plt.show()"
   ]
  },
  {
   "cell_type": "code",
   "execution_count": 2,
   "id": "8dbb7ec8-12e4-489f-9770-4d7fbb62d1eb",
   "metadata": {},
   "outputs": [
    {
     "name": "stdout",
     "output_type": "stream",
     "text": [
      "[0 3 0 1 1 1]\n"
     ]
    }
   ],
   "source": [
    "#24. Numpy Multinomial Distribution : it is a generalization of binomial dist.\n",
    "# parameter : n(number of outcomes or possibilities), pvals(list of possibilities or outcome, size(shape of returned array)\n",
    "# draw out a sample for dice roll\n",
    "from numpy import random\n",
    "x = random.multinomial(n=6, pvals=[1/6, 1/6, 1/6, 1/6,1/6,1/6])\n",
    "print(x)\n"
   ]
  },
  {
   "cell_type": "code",
   "execution_count": null,
   "id": "fc7b3333-f761-4403-9af6-3ada06bda9a1",
   "metadata": {},
   "outputs": [],
   "source": [
    "# multinomial samples will not produce a single value,they will produce one value for each pvals"
   ]
  },
  {
   "cell_type": "code",
   "execution_count": 4,
   "id": "c2a821d7-732c-49a3-96f5-9e4a38830a8d",
   "metadata": {},
   "outputs": [
    {
     "name": "stdout",
     "output_type": "stream",
     "text": [
      "[[1.25241774 0.79998912 3.25753132]\n",
      " [1.77064127 2.89641823 2.92570677]]\n"
     ]
    }
   ],
   "source": [
    "#26. Numpy Exponential Distribution : It is used for describing the time till next event that is like failure or success\n",
    "# param-scale(inverse of rate(see lam poisson dist.)), size\n",
    "# here we will draw a sample for exponential dist with 2.0 scale and 2*3 size\n",
    "x = random.exponential(scale=2, size=(2,3))\n",
    "print(x)"
   ]
  },
  {
   "cell_type": "code",
   "execution_count": 6,
   "id": "deef20ad-25ae-474d-9e54-99ddbd114eb1",
   "metadata": {},
   "outputs": [
    {
     "name": "stderr",
     "output_type": "stream",
     "text": [
      "C:\\Users\\vruta\\AppData\\Local\\Temp\\ipykernel_11064\\1468753808.py:5: UserWarning: \n",
      "\n",
      "`distplot` is a deprecated function and will be removed in seaborn v0.14.0.\n",
      "\n",
      "Please adapt your code to use either `displot` (a figure-level function with\n",
      "similar flexibility) or `histplot` (an axes-level function for histograms).\n",
      "\n",
      "For a guide to updating your code to use the new functions, please see\n",
      "https://gist.github.com/mwaskom/de44147ed2974457ad6372750bbe5751\n",
      "\n",
      "  sns.distplot(random.exponential(size=1000))\n",
      "C:\\ProgramData\\anaconda3\\Lib\\site-packages\\seaborn\\_oldcore.py:1119: FutureWarning: use_inf_as_na option is deprecated and will be removed in a future version. Convert inf values to NaN before operating instead.\n",
      "  with pd.option_context('mode.use_inf_as_na', True):\n"
     ]
    },
    {
     "data": {
      "image/png": "[encoded data removed]",
      "text/plain": [
       "<Figure size 640x480 with 1 Axes>"
      ]
     },
     "metadata": {},
     "output_type": "display_data"
    }
   ],
   "source": [
    "# visualization of exponential dist\n",
    "from numpy import random\n",
    "import matplotlib.pyplot as plt\n",
    "import seaborn as sns\n",
    "sns.distplot(random.exponential(size=1000))\n",
    "plt.show()"
   ]
  },
  {
   "cell_type": "code",
   "execution_count": 7,
   "id": "95392e1c-44f3-4187-a664-6cc6e7b03dc5",
   "metadata": {},
   "outputs": [
    {
     "name": "stdout",
     "output_type": "stream",
     "text": [
      "[[0.96230212 4.98146582 1.33426165]\n",
      " [1.87179914 1.29487591 0.50930098]]\n"
     ]
    }
   ],
   "source": [
    "#26. Numpy chi square dist : it is basically used as a basis to verify the hypothesis\n",
    "# param - df(degree of freedom), size\n",
    "# sample for chi square dist with df 2 with size 2*3\n",
    "x = random.chisquare(df=2, size=(2,3))\n",
    "print(x)"
   ]
  },
  {
   "cell_type": "code",
   "execution_count": 11,
   "id": "194a46b1-a5d3-44b9-b28b-8d6bcf11c399",
   "metadata": {},
   "outputs": [
    {
     "name": "stderr",
     "output_type": "stream",
     "text": [
      "C:\\ProgramData\\anaconda3\\Lib\\site-packages\\seaborn\\_oldcore.py:1119: FutureWarning: use_inf_as_na option is deprecated and will be removed in a future version. Convert inf values to NaN before operating instead.\n",
      "  with pd.option_context('mode.use_inf_as_na', True):\n"
     ]
    },
    {
     "data": {
      "image/png": "[encoded data removed]",
      "text/plain": [
       "<Figure size 500x500 with 1 Axes>"
      ]
     },
     "metadata": {},
     "output_type": "display_data"
    }
   ],
   "source": [
    "# visualization of chi square\n",
    "sns.displot(random.chisquare(df=1,size=(1000)))\n",
    "plt.show()"
   ]
  },
  {
   "cell_type": "code",
   "execution_count": 12,
   "id": "968d0fa1-6401-4b25-8059-abe0f6d865ad",
   "metadata": {},
   "outputs": [
    {
     "name": "stdout",
     "output_type": "stream",
     "text": [
      "[[0.26673539 4.59022558 0.78339211]\n",
      " [3.66658649 2.01566032 3.91320744]]\n"
     ]
    }
   ],
   "source": [
    "#27. Numpy Array Rayleigh Dist:It is used in signal processing.\n",
    "# param - scale(standard deviation, how flat the distribution is ..default 1.0), size\n",
    "# sampel for RL with scale of 2.0 with size of 2*3\n",
    "x = random.rayleigh(scale=2, size=(2,3))\n",
    "print(x)"
   ]
  },
  {
   "cell_type": "code",
   "execution_count": 15,
   "id": "102dfe83-cf21-4c94-a07c-d1d0d4e7ce8b",
   "metadata": {},
   "outputs": [
    {
     "name": "stderr",
     "output_type": "stream",
     "text": [
      "C:\\ProgramData\\anaconda3\\Lib\\site-packages\\seaborn\\_oldcore.py:1119: FutureWarning: use_inf_as_na option is deprecated and will be removed in a future version. Convert inf values to NaN before operating instead.\n",
      "  with pd.option_context('mode.use_inf_as_na', True):\n"
     ]
    },
    {
     "data": {
      "image/png": "[encoded data removed]",
      "text/plain": [
       "<Figure size 500x500 with 1 Axes>"
      ]
     },
     "metadata": {},
     "output_type": "display_data"
    }
   ],
   "source": [
    "sns.displot(random.rayleigh(size=1000))\n",
    "plt.show()"
   ]
  },
  {
   "cell_type": "code",
   "execution_count": 16,
   "id": "728d08a4-9372-4caa-8190-679c99c03dba",
   "metadata": {},
   "outputs": [
    {
     "name": "stdout",
     "output_type": "stream",
     "text": [
      "[[6.52640108 0.68788189 0.11690319]\n",
      " [0.31964044 0.25712837 0.85736537]]\n"
     ]
    }
   ],
   "source": [
    "#28. Numpy pareto dist: 80:20 ratio (20% factors cause 80% outcome or result)it is like 20% investment and 80% profit\n",
    "# param - a(shape param), size\n",
    "# sample for pareto dist with shape 2 with size 2*3\n",
    "x = random.pareto(a=2, size=(2,3))\n",
    "print(x)"
   ]
  },
  {
   "cell_type": "code",
   "execution_count": 19,
   "id": "484f47fa-0397-4256-a52f-9d5ce2320b5c",
   "metadata": {},
   "outputs": [
    {
     "name": "stderr",
     "output_type": "stream",
     "text": [
      "C:\\ProgramData\\anaconda3\\Lib\\site-packages\\seaborn\\_oldcore.py:1119: FutureWarning: use_inf_as_na option is deprecated and will be removed in a future version. Convert inf values to NaN before operating instead.\n",
      "  with pd.option_context('mode.use_inf_as_na', True):\n"
     ]
    },
    {
     "data": {
      "image/png": "[encoded data removed]",
      "text/plain": [
       "<Figure size 500x500 with 1 Axes>"
      ]
     },
     "metadata": {},
     "output_type": "display_data"
    }
   ],
   "source": [
    "# visualization of pareto\n",
    "sns.displot(random.pareto(a=2,size=1000),kde=False)\n",
    "plt.show()"
   ]
  },
  {
   "cell_type": "code",
   "execution_count": 20,
   "id": "4fc05639-3540-411a-acca-e1377f777db7",
   "metadata": {},
   "outputs": [
    {
     "name": "stdout",
     "output_type": "stream",
     "text": [
      "[[5 1 1]\n",
      " [1 2 1]]\n"
     ]
    }
   ],
   "source": [
    "#29. Numpy Zipf Dist : Its defination is like ... cimmon word in english has occurs nearly 1/5 time as of the most hindi words\n",
    "# param - a(dist param), size\n",
    "#sample for zipf dist with a as 2 with size 2*3\n",
    "x = random.zipf(a=2, size=(2,3))\n",
    "print(x)"
   ]
  },
  {
   "cell_type": "code",
   "execution_count": 23,
   "id": "d96f8134-6932-4112-879b-6be5b3cc6a63",
   "metadata": {},
   "outputs": [
    {
     "name": "stderr",
     "output_type": "stream",
     "text": [
      "C:\\Users\\vruta\\AppData\\Local\\Temp\\ipykernel_11064\\2489102976.py:3: UserWarning: \n",
      "\n",
      "`distplot` is a deprecated function and will be removed in seaborn v0.14.0.\n",
      "\n",
      "Please adapt your code to use either `displot` (a figure-level function with\n",
      "similar flexibility) or `histplot` (an axes-level function for histograms).\n",
      "\n",
      "For a guide to updating your code to use the new functions, please see\n",
      "https://gist.github.com/mwaskom/de44147ed2974457ad6372750bbe5751\n",
      "\n",
      "  sns.distplot(x[x<10], kde=False)\n"
     ]
    },
    {
     "data": {
      "text/plain": [
       "<function matplotlib.pyplot.show(close=None, block=None)>"
      ]
     },
     "execution_count": 23,
     "metadata": {},
     "output_type": "execute_result"
    },
    {
     "data": {
      "image/png": "[encoded data removed]",
      "text/plain": [
       "<Figure size 640x480 with 1 Axes>"
      ]
     },
     "metadata": {},
     "output_type": "display_data"
    }
   ],
   "source": [
    "# visualization of zipf\n",
    "x = random.zipf(a=2, size=1000)\n",
    "sns.distplot(x[x<10], kde=False)\n",
    "plt.show"
   ]
  },
  {
   "cell_type": "code",
   "execution_count": null,
   "id": "86d04c62-ab0a-478d-96d3-3590b3454b25",
   "metadata": {},
   "outputs": [],
   "source": [
    "# complete here data distribution"
   ]
  },
  {
   "cell_type": "code",
   "execution_count": 28,
   "id": "a8f713f8-6676-4c47-8b26-a695dcaf6246",
   "metadata": {},
   "outputs": [
    {
     "name": "stdout",
     "output_type": "stream",
     "text": [
      "[6, 8, 10, 12]\n"
     ]
    }
   ],
   "source": [
    "#30. ufunc - stands for universal function and they are actually numpy fun that operates on the ndarray objects\n",
    "# ufunc also takes additional arguments like,where,dtype and out\n",
    "# vectorization - converting the iterative statements into a vector based statement \n",
    "# example without ufunc, here we will use python inbuilt zip().\n",
    "x = [1,2,3,4]\n",
    "y = [5,6,7,8]\n",
    "z = []\n",
    "for i,j in zip(x,y):\n",
    "    z.append(i+j)\n",
    "print(z)"
   ]
  },
  {
   "cell_type": "code",
   "execution_count": 29,
   "id": "47ff7f73-fecb-4026-acdf-e1eeb6f2763a",
   "metadata": {},
   "outputs": [
    {
     "name": "stdout",
     "output_type": "stream",
     "text": [
      "[ 6  8 10 12]\n"
     ]
    }
   ],
   "source": [
    "# with ufunc, we will now add() function\n",
    "import numpy as np\n",
    "x = [1,2,3,4]\n",
    "y = [5,6,7,8]\n",
    "z = np.add(x,y)\n",
    "print(z)"
   ]
  },
  {
   "cell_type": "code",
   "execution_count": 35,
   "id": "b47652aa-59b1-4d42-ac67-628fd447bae3",
   "metadata": {},
   "outputs": [
    {
     "name": "stdout",
     "output_type": "stream",
     "text": [
      "[6 8 10 12]\n",
      "<class 'numpy.ufunc'>\n"
     ]
    }
   ],
   "source": [
    "#31. ufunct : to create your own ufunct, you have to define a function, like you do in normal function in python, then you add it to the numpy function \n",
    "# with frompyfunc() method\n",
    "# arguments of frompyfunc(): function, inputs, outputs\n",
    "# create your own function for addition:\n",
    "def myadd(x,y):\n",
    "    return x+y\n",
    "\n",
    "myadd = np.frompyfunc(myadd,2,1)\n",
    "print(myadd([1,2,3,4],[5,6,7,8]))\n",
    "\n",
    "#checking if this function ufunct or not?\n",
    "print(type(np.add))\n",
    "\n"
   ]
  },
  {
   "cell_type": "code",
   "execution_count": 36,
   "id": "5ccd3a77-9bc6-4aa8-85ef-ac85cc2ea4a8",
   "metadata": {},
   "outputs": [
    {
     "name": "stdout",
     "output_type": "stream",
     "text": [
      "<class 'numpy._ArrayFunctionDispatcher'>\n"
     ]
    }
   ],
   "source": [
    "# concatenate()\n",
    "print(type(np.concatenate))"
   ]
  },
  {
   "cell_type": "code",
   "execution_count": 40,
   "id": "84494550-a474-4ded-b861-996154099509",
   "metadata": {},
   "outputs": [
    {
     "name": "stdout",
     "output_type": "stream",
     "text": [
      "[12 15 15 28 39]\n"
     ]
    }
   ],
   "source": [
    "#32. simple arithmetic(ufunc) operators : +,-,/,*\n",
    "# by using ufunc additional arguments like, where, dtype and out\n",
    "# here now we will use add() : if we use array through then one by one we need to add but if in numpy its easy method\n",
    "# same for subtract\n",
    "x = np.array([10,11,12,23,34])\n",
    "y = np.array([2,4,3,5,5])\n",
    "xy1 = np.add(x,y)\n",
    "print(xy1)"
   ]
  },
  {
   "cell_type": "code",
   "execution_count": 44,
   "id": "e37d9491-1554-4033-a7cf-40465b0797b7",
   "metadata": {},
   "outputs": [
    {
     "name": "stdout",
     "output_type": "stream",
     "text": [
      "[     100    14641     1728  6436343 45435424]\n"
     ]
    }
   ],
   "source": [
    "# power() function raises the value from the 1st array to the power of the values of the 2nd array and return the results in a new arry\n",
    "x = np.array([10,11,12,23,34])\n",
    "y = np.array([2,4,3,5,5])\n",
    "xy1 = np.power(x,y)\n",
    "print(xy1)"
   ]
  },
  {
   "cell_type": "code",
   "execution_count": 47,
   "id": "0f6c6f3a-7616-4222-b518-31abcb9ea674",
   "metadata": {},
   "outputs": [
    {
     "name": "stdout",
     "output_type": "stream",
     "text": [
      "[0 3 0 3 4]\n"
     ]
    }
   ],
   "source": [
    "# reminder - mod() and reminder() fuctions areturn the reminder of the 1st array corresponding to the 2nd array, and result in the new array\n",
    "x = np.array([10,11,12,23,34])\n",
    "y = np.array([2,4,3,5,5])\n",
    "xy1 = np.remainder(x,y)\n",
    "print(xy1)"
   ]
  },
  {
   "cell_type": "code",
   "execution_count": 48,
   "id": "7b162953-2e99-40e2-aaa0-27875f0c2812",
   "metadata": {},
   "outputs": [
    {
     "name": "stdout",
     "output_type": "stream",
     "text": [
      "(array([5, 2, 4, 4, 6]), array([0, 3, 0, 3, 4]))\n"
     ]
    }
   ],
   "source": [
    "# quotient and mod(reminder)\n",
    "# the divmod() function return both the quotient and mod\n",
    "x = np.array([10,11,12,23,34])\n",
    "y = np.array([2,4,3,5,5])\n",
    "xy1 = np.divmod(x,y)\n",
    "print(xy1)"
   ]
  },
  {
   "cell_type": "code",
   "execution_count": 49,
   "id": "94e832bb-4ef8-4cdc-8c26-69fdf2124d16",
   "metadata": {},
   "outputs": [
    {
     "name": "stdout",
     "output_type": "stream",
     "text": [
      "[1 2 3 4]\n"
     ]
    }
   ],
   "source": [
    "# absolute() and abs() - do the same operation but here we should absolute to avoid confusion with python inbuilt function math.abs()\n",
    "x = np.array([-1,-2,-3,-4])\n",
    "x1 = np.absolute(x)\n",
    "print(x1)"
   ]
  },
  {
   "cell_type": "code",
   "execution_count": 3,
   "id": "78ff0172-1a28-46b9-8b76-bcb30f36d117",
   "metadata": {},
   "outputs": [
    {
     "name": "stdout",
     "output_type": "stream",
     "text": [
      "[-3.  3.]\n"
     ]
    }
   ],
   "source": [
    "#33. Numpy Rounding Decimals: There are 5 ways of rounding off the decimals in numpy: truncation, fix, rounding, floor, ceil\n",
    "# truncation: trunc() and fix()\n",
    "# here we are truncating the below array, these command remove the decimals and return the float number closest to zero\n",
    "import numpy as np\n",
    "x = np.trunc([-3.14455, 3.5667])\n",
    "print(x)"
   ]
  },
  {
   "cell_type": "code",
   "execution_count": 4,
   "id": "e30b05ba-dfb5-439c-b209-48490cfc3c90",
   "metadata": {},
   "outputs": [
    {
     "name": "stdout",
     "output_type": "stream",
     "text": [
      "[-3.  3.]\n"
     ]
    }
   ],
   "source": [
    "# fix() example\n",
    "x = np.fix([-3.14455, 3.5667])\n",
    "print(x)"
   ]
  },
  {
   "cell_type": "code",
   "execution_count": 6,
   "id": "9a502cfd-6e05-453c-9948-e08912d99025",
   "metadata": {},
   "outputs": [
    {
     "name": "stdout",
     "output_type": "stream",
     "text": [
      "3.13\n"
     ]
    }
   ],
   "source": [
    "# rounding: the around() function increments preceding digit or decimal by nearest to 1: if n>5 =1 or n<5 =0\n",
    "x = np.around(3.1290,2)\n",
    "print(x)"
   ]
  },
  {
   "cell_type": "code",
   "execution_count": 8,
   "id": "dfa1d9f0-ce57-4d62-82e7-75ab1370a109",
   "metadata": {},
   "outputs": [
    {
     "name": "stdout",
     "output_type": "stream",
     "text": [
      "[-4.  3.]\n"
     ]
    }
   ],
   "source": [
    "# floor() - round off decimals to the lower integer\n",
    "x = np.floor([-3.6774, 3.4456])\n",
    "print(x)"
   ]
  },
  {
   "cell_type": "code",
   "execution_count": 9,
   "id": "b28146f5-171f-4819-a513-adce59936b04",
   "metadata": {},
   "outputs": [
    {
     "name": "stdout",
     "output_type": "stream",
     "text": [
      "[-3.  4.]\n"
     ]
    }
   ],
   "source": [
    "# ceil(): round off decimals to the upper integer\n",
    "x = np.ceil([-3.14455, 3.5667])\n",
    "print(x)"
   ]
  },
  {
   "cell_type": "code",
   "execution_count": 12,
   "id": "d7c6f79e-8ebe-47de-b641-6d62359613c1",
   "metadata": {},
   "outputs": [
    {
     "name": "stdout",
     "output_type": "stream",
     "text": [
      "[2 4 6]\n",
      "12\n"
     ]
    }
   ],
   "source": [
    "#34. Summations & Cumulative Sum: \n",
    "#Summations: difference: addition is done between 2 arguments whereas summation happens over n elements\n",
    "# adding the 2 array\n",
    "x1 = np.array([1,2,3])\n",
    "y1 = np.array([1,2,3])\n",
    "new = np.add(x1,y1)\n",
    "print(new)\n",
    "\n",
    "\n",
    "# sum the values in 2 array:\n",
    "x1 = np.array([1,2,3])\n",
    "y1 = np.array([1,2,3])\n",
    "new = np.sum([x1,y1])\n",
    "print(new)\n"
   ]
  },
  {
   "cell_type": "code",
   "execution_count": 13,
   "id": "110130c8-6e28-4d1c-b6ec-eab08f109197",
   "metadata": {},
   "outputs": [
    {
     "name": "stdout",
     "output_type": "stream",
     "text": [
      "[6 6]\n"
     ]
    }
   ],
   "source": [
    "# summation over an axis: if you specify axis=1, numpx will sum the number in each array\n",
    "x1 = np.array([1,2,3])\n",
    "y1 = np.array([1,2,3])\n",
    "new = np.sum([x1,y1], axis=1)\n",
    "print(new)"
   ]
  },
  {
   "cell_type": "code",
   "execution_count": 2,
   "id": "e2e6bc3b-b8d1-4e88-9a1b-94acbeb79625",
   "metadata": {},
   "outputs": [
    {
     "name": "stdout",
     "output_type": "stream",
     "text": [
      "[1 3 6]\n"
     ]
    }
   ],
   "source": [
    "# cumulative sum: means partially adding the element in array\n",
    "# example: [1,2,3,4] would be [1,2+2, 1+2+3, 1+2+3+4] = [1,3,6,10]represent by cumsum()\n",
    "import numpy as np\n",
    "x = np.array([1,2,3])\n",
    "x1 = np.cumsum(x)\n",
    "print(x1)"
   ]
  },
  {
   "cell_type": "code",
   "execution_count": 3,
   "id": "1b7d94de-90cd-4cb9-842b-1fa76f917fb8",
   "metadata": {},
   "outputs": [
    {
     "name": "stdout",
     "output_type": "stream",
     "text": [
      "24\n"
     ]
    }
   ],
   "source": [
    "#35. Numpy Products & Cumulative Product\n",
    "# products : use prod() function\n",
    "# here we will find the product of the element of the below array\n",
    "x = np.array([1,2,3,4])\n",
    "x1 = np.prod(x)\n",
    "print(x1)"
   ]
  },
  {
   "cell_type": "code",
   "execution_count": 4,
   "id": "0c6cbcb7-bcd3-4484-a8c8-e02c74524f20",
   "metadata": {},
   "outputs": [
    {
     "name": "stdout",
     "output_type": "stream",
     "text": [
      "[  24 1680]\n"
     ]
    }
   ],
   "source": [
    "# product over an axis\n",
    "x = np.array([1,2,3,4])\n",
    "y = np.array([5,6,7,8])\n",
    "x1 = np.prod([x,y],axis=1)\n",
    "print(x1)"
   ]
  },
  {
   "cell_type": "code",
   "execution_count": 5,
   "id": "f501deb5-6d65-45d3-a9fe-4db040ba0f24",
   "metadata": {},
   "outputs": [
    {
     "name": "stdout",
     "output_type": "stream",
     "text": [
      "[[       1        2        6       24]\n",
      " [       5      150    31500 52920000]]\n"
     ]
    }
   ],
   "source": [
    "# cumulative product: \n",
    "# example the partial product of[1,2,3,4] is [1,1*2, 2*3]\n",
    "# product over an axis\n",
    "x = np.array([1,2,3,4])\n",
    "y = np.cumprod([5,6,7,8])\n",
    "x1 = np.cumprod([x,y],axis=1)\n",
    "print(x1)"
   ]
  },
  {
   "cell_type": "code",
   "execution_count": 6,
   "id": "f50a7d5c-c193-4aa3-b4f9-49d76e8636d0",
   "metadata": {},
   "outputs": [
    {
     "name": "stdout",
     "output_type": "stream",
     "text": [
      "[1 1 1]\n"
     ]
    }
   ],
   "source": [
    "# Numpy Differences : diff() function for finding the difference\n",
    "# example: [1,2,3,4], the deiscreate diff of this would be [2-1,3-2,4-3] = [1,1,1] by using diff()\n",
    "x = np.array([1,2,3,4])\n",
    "y = np.diff(x)\n",
    "print(y)"
   ]
  },
  {
   "cell_type": "code",
   "execution_count": 4,
   "id": "db98fcc1-6e02-410f-afc3-f590e548f803",
   "metadata": {},
   "outputs": [
    {
     "name": "stdout",
     "output_type": "stream",
     "text": [
      "4\n"
     ]
    }
   ],
   "source": [
    "#37. Numpy LCM Lowest Common Multiple\n",
    "# here we will find the LCM of the 2 numbers:\n",
    "num1 = 4\n",
    "num2 = 6\n",
    "numnew = np.lcm(num1,num2)\n",
    "print(numnew)\n",
    "#The answer of the above is 12 because the LCM of both numbers(4*3=12 and 6*2=12)"
   ]
  },
  {
   "cell_type": "code",
   "execution_count": 5,
   "id": "4dcfb0b2-364a-4d70-b583-7bd36bd41714",
   "metadata": {},
   "outputs": [
    {
     "name": "stdout",
     "output_type": "stream",
     "text": [
      "18\n"
     ]
    }
   ],
   "source": [
    "# finding the LCM in array\n",
    "x = np.array([3,6,9])\n",
    "x1 = np.lcm.reduce(x)\n",
    "# the reduce() method will use the ufunc, in this case the lcm() function on each elementn and it will reduce the array by 1 dimension\n",
    "print(x1)"
   ]
  },
  {
   "cell_type": "code",
   "execution_count": 7,
   "id": "6c1459b4-1b68-4450-b786-bc3c2fb8ff1e",
   "metadata": {},
   "outputs": [
    {
     "name": "stdout",
     "output_type": "stream",
     "text": [
      "2520\n"
     ]
    }
   ],
   "source": [
    "# here we will find the lcm of all of an arry where the array contains all integers from 1 to 10\n",
    "x = np.arange(1,11)\n",
    "y = np.lcm.reduce(x)\n",
    "print(y)"
   ]
  },
  {
   "cell_type": "code",
   "execution_count": 8,
   "id": "29b8b3ce-f4af-4d9e-99ab-df7583a62cb7",
   "metadata": {},
   "outputs": [
    {
     "name": "stdout",
     "output_type": "stream",
     "text": [
      "3\n"
     ]
    }
   ],
   "source": [
    "#38. Finding GCD(Gretest common demominator), also known as HCF(Highest Common Factor)\n",
    "# here we will find the HCF of the below 2 numbers:\n",
    "x1= 6\n",
    "x2= 9\n",
    "x = np.gcd(x1,x2)\n",
    "print(x)"
   ]
  },
  {
   "cell_type": "code",
   "execution_count": 9,
   "id": "8dbaba59-efac-4f54-a2e9-e82a9f2121aa",
   "metadata": {},
   "outputs": [
    {
     "name": "stdout",
     "output_type": "stream",
     "text": [
      "1.0\n"
     ]
    }
   ],
   "source": [
    "#39 Trignometric Function: numpy provides the ufuncs line sin(),cos(), and tan() that takes value in radians and produce the corresponding \n",
    "# sin, cos, and tan values\n",
    "# here now we will find the sin value of pi/2\n",
    "x = np.sin(np.pi/2)\n",
    "print(x)"
   ]
  },
  {
   "cell_type": "code",
   "execution_count": 10,
   "id": "7560b350-c221-42c6-83be-534391dd580f",
   "metadata": {},
   "outputs": [
    {
     "name": "stdout",
     "output_type": "stream",
     "text": [
      "[1.        0.8660254 0.5      ]\n"
     ]
    }
   ],
   "source": [
    "# we will now find the sin values of an array\n",
    "x = np.array([np.pi/2, np.pi/3,np.pi/6])\n",
    "x1 = np.sin(x)\n",
    "print(x1)"
   ]
  },
  {
   "cell_type": "code",
   "execution_count": 11,
   "id": "4c0d888f-9c8e-4c6e-acb9-735c03968c72",
   "metadata": {},
   "outputs": [
    {
     "name": "stdout",
     "output_type": "stream",
     "text": [
      "[1.57079633 3.14159265 4.71238898 6.28318531]\n"
     ]
    }
   ],
   "source": [
    "# Convert degree into radians: by default all of the trigno functions tales radians as parameter\n",
    "# note: radians values are pi/180* degree value\n",
    "# here we will convert all the array values to radians:\n",
    "x = np.array([90,180,270,360])\n",
    "x1 = np.deg2rad(x)\n",
    "print(x1)"
   ]
  },
  {
   "cell_type": "code",
   "execution_count": 3,
   "id": "03745750-3e12-4192-962e-7e9aaa3627bf",
   "metadata": {},
   "outputs": [
    {
     "name": "stdout",
     "output_type": "stream",
     "text": [
      "1.5707963267948966\n"
     ]
    }
   ],
   "source": [
    "# here we can also find angles : arcsin(), arccos(), and arctan() that takes values in radians and produce the corresponding sin, cos, tan values\n",
    "# we will now find the angle of 1.0\n",
    "import numpy as np\n",
    "x = np.arcsin(1.0)\n",
    "print(x)\n"
   ]
  },
  {
   "cell_type": "code",
   "execution_count": 5,
   "id": "c758bbc7-33a0-46c9-b7e9-9870713a3061",
   "metadata": {},
   "outputs": [
    {
     "name": "stdout",
     "output_type": "stream",
     "text": [
      "[ 1.57079633 -1.57079633  0.10016742]\n"
     ]
    }
   ],
   "source": [
    "# angles of each val in an array:\n",
    "x = np.array([1,-1,0.1])\n",
    "x1 = np.arcsin(x)\n",
    "print(x1)"
   ]
  },
  {
   "cell_type": "code",
   "execution_count": 6,
   "id": "81a9fdd5-0f91-44e3-aada-badbee7b4942",
   "metadata": {},
   "outputs": [
    {
     "name": "stdout",
     "output_type": "stream",
     "text": [
      "5.0\n"
     ]
    }
   ],
   "source": [
    "# here we can also find the hypotenous using the pythagoras theorem in numpy\n",
    "# hypot() function that takes values in radians and produce the corresponding sin, cos, tan values\n",
    "# here we will find the hypot for 3 base and 4 perpendicular\n",
    "base = 3\n",
    "perp = 4\n",
    "x = np.hypot(base, perp)\n",
    "print(x)\n"
   ]
  },
  {
   "cell_type": "code",
   "execution_count": 7,
   "id": "1e53756a-0dc9-468d-b71f-b8b451d810a8",
   "metadata": {},
   "outputs": [
    {
     "name": "stdout",
     "output_type": "stream",
     "text": [
      "2.3012989023072947\n"
     ]
    }
   ],
   "source": [
    "#40. Numpy hyperbolic Functions:\n",
    "# numpy provides the ufuncs line sinh(),cosh(), and tanh() that takes value in radians and produce the corresponding \n",
    "# sin, cos, and tan values\n",
    "# here we will find the val of a sinh of pi/2\n",
    "x = np.sinh(np.pi/2)\n",
    "print(x)\n"
   ]
  },
  {
   "cell_type": "code",
   "execution_count": 10,
   "id": "874804a9-4d06-4cba-bec1-b303bdbfd966",
   "metadata": {},
   "outputs": [
    {
     "name": "stdout",
     "output_type": "stream",
     "text": [
      "[1 2 3 4 5 7]\n"
     ]
    }
   ],
   "source": [
    "#41. Numpy ufuncs set operations\n",
    "# what is set : a set is a collection of unique elements\n",
    "# for creating the set we use numpy's unique() method to find the unique elements from any array:\n",
    "# here we will convert the array with repeated eleemts to a set\n",
    "x = np.array([1,2,3,4,5,1,1,3,3,3,7])\n",
    "x1 = np.unique(x)\n",
    "print(x1)"
   ]
  },
  {
   "cell_type": "code",
   "execution_count": 11,
   "id": "11647413-1b4a-4666-8f85-5e45e858a9e2",
   "metadata": {},
   "outputs": [
    {
     "name": "stdout",
     "output_type": "stream",
     "text": [
      "[1 2 3 4 5 6 7]\n"
     ]
    }
   ],
   "source": [
    "# to find the unique val of 2 1D array, we will use unionld() method\n",
    "x = np.array([1,2,3,4,5,1,1,3,3,3,7])\n",
    "x1 = np.array([3,3,3,4,5,1,6,3,3,3,7])\n",
    "y = np.union1d(x,x1)\n",
    "print(y)"
   ]
  },
  {
   "cell_type": "code",
   "execution_count": 12,
   "id": "cb46ebc1-eb9e-4ab3-98e6-b9b321def748",
   "metadata": {},
   "outputs": [
    {
     "name": "stdout",
     "output_type": "stream",
     "text": [
      "[1 1 1 3 3 3 3 3 3 3 3 3 4 5 7]\n"
     ]
    }
   ],
   "source": [
    "# intersect1d()\n",
    "x = np.array([1,2,3,4,5,1,1,3,3,3,7])\n",
    "x1 = np.array([3,3,3,4,5,1,6,3,3,3,7])\n",
    "y = np.intersect1d(x,x1, assume_unique=True)\n",
    "print(y)"
   ]
  },
  {
   "cell_type": "code",
   "execution_count": null,
   "id": "b2463c10-b596-4974-abb2-e54883a9a65f",
   "metadata": {},
   "outputs": [],
   "source": []
  }
 ],
 "metadata": {
  "kernelspec": {
   "display_name": "Python 3 (ipykernel)",
   "language": "python",
   "name": "python3"
  },
  "language_info": {
   "codemirror_mode": {
    "name": "ipython",
    "version": 3
   },
   "file_extension": ".py",
   "mimetype": "text/x-python",
   "name": "python",
   "nbconvert_exporter": "python",
   "pygments_lexer": "ipython3",
   "version": "3.11.7"
  }
 },
 "nbformat": 4,
 "nbformat_minor": 5
}
