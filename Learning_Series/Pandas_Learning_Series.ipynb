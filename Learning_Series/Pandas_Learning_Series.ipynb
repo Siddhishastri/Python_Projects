{
 "cells": [
  {
   "cell_type": "code",
   "execution_count": 2,
   "id": "e4905b21-b566-4bf9-a521-e1308273bb94",
   "metadata": {},
   "outputs": [
    {
     "name": "stdout",
     "output_type": "stream",
     "text": [
      "0    1\n",
      "1    7\n",
      "2    2\n",
      "dtype: int64\n"
     ]
    }
   ],
   "source": [
    "#1. pandas series : A pandas series is like a column in a table. it is 1D array which holds data of any type\n",
    "# here we will create a simple pandas series\n",
    "import pandas as pd\n",
    "x = [1,7,2]\n",
    "x1 = pd.Series(x)\n",
    "print(x1)"
   ]
  },
  {
   "cell_type": "code",
   "execution_count": 6,
   "id": "59eb2182-af80-4553-a6c3-e03a1c6de7eb",
   "metadata": {},
   "outputs": [
    {
     "name": "stdout",
     "output_type": "stream",
     "text": [
      "1\n"
     ]
    }
   ],
   "source": [
    "# labeling - label can be use to access a specified value.\n",
    "x = [1,2,3]\n",
    "x1 = pd.Series(x)\n",
    "print(x1[0])"
   ]
  },
  {
   "cell_type": "code",
   "execution_count": 7,
   "id": "dc401d9b-d967-4a18-883c-06a3d42088e4",
   "metadata": {},
   "outputs": [
    {
     "name": "stdout",
     "output_type": "stream",
     "text": [
      "x    1\n",
      "y    4\n",
      "z    5\n",
      "dtype: int64\n"
     ]
    }
   ],
   "source": [
    "# with create label you can create your own name labels:\n",
    "x = [1,4,5]\n",
    "x1 = pd.Series(x,index = [\"x\",\"y\",\"z\"])\n",
    "print(x1)"
   ]
  },
  {
   "cell_type": "code",
   "execution_count": 9,
   "id": "fcc86f94-aab7-4783-a29e-e19858622338",
   "metadata": {},
   "outputs": [
    {
     "name": "stdout",
     "output_type": "stream",
     "text": [
      "1\n"
     ]
    }
   ],
   "source": [
    "# labeling - label can be use to access a specified value.(After labeling own label)\n",
    "x = [1,2,3]\n",
    "x1 = pd.Series(x,index=[\"x\",\"y\",\"z\"])\n",
    "print(x1[\"x\"])"
   ]
  },
  {
   "cell_type": "code",
   "execution_count": 10,
   "id": "fa9b66b2-e912-4914-8ed9-c729ac7a263b",
   "metadata": {},
   "outputs": [
    {
     "name": "stdout",
     "output_type": "stream",
     "text": [
      "day1    410\n",
      "day2    456\n",
      "dtype: object\n"
     ]
    }
   ],
   "source": [
    "# you can also use a key or value object like a dictionary, when creating a series\n",
    "# here we will create a simple pandas series from a dictionary\n",
    "cal = {\"day1\":410,\"day2\":\"456\"}\n",
    "x = pd.Series(cal)\n",
    "print(x)"
   ]
  },
  {
   "cell_type": "code",
   "execution_count": 12,
   "id": "6c378ecf-4eb3-4efb-b49f-cf3f22e7a0d8",
   "metadata": {},
   "outputs": [
    {
     "name": "stdout",
     "output_type": "stream",
     "text": [
      "day1    234\n",
      "day2    345\n",
      "dtype: int64\n"
     ]
    }
   ],
   "source": [
    "# now we will create a series only data day1 and day2\n",
    "cal = {\"day1\":234,\"day2\":345}\n",
    "result = pd.Series(cal,index=[\"day1\",\"day2\"])\n",
    "print(result)"
   ]
  },
  {
   "cell_type": "code",
   "execution_count": 15,
   "id": "2b183e91-f224-4c79-b47a-591fb47f8501",
   "metadata": {},
   "outputs": [
    {
     "name": "stdout",
     "output_type": "stream",
     "text": [
      "   cal  duration\n",
      "0   12        29\n",
      "1   23        23\n",
      "2   45        89\n"
     ]
    }
   ],
   "source": [
    "# DataFrame : datasets in pandas are usually multidimentional tables and they are called dataframe\n",
    "# series are like columns and dataframe is the whole table\n",
    "# we will now create a dataframe from 2 series\n",
    "x = {\"cal\": [12,23,45], \"duration\":[29,23,89]}\n",
    "x1 = pd.DataFrame(x)\n",
    "print(x1)"
   ]
  },
  {
   "cell_type": "code",
   "execution_count": 16,
   "id": "55839b6c-a5a5-44f8-bc4e-5c24e7acd862",
   "metadata": {},
   "outputs": [
    {
     "name": "stdout",
     "output_type": "stream",
     "text": [
      "   cal  dur\n",
      "0   23   23\n",
      "1   45   45\n",
      "2   67   67\n",
      "3   89   89\n"
     ]
    }
   ],
   "source": [
    "#2. DataFrame: It is a 2D data structure like 2D array with table including rows and columns\n",
    "import pandas as pd\n",
    "data = {\"cal\": [23,45,67,89], \"dur\":[23,45,67,89]}\n",
    "data1 = pd.DataFrame(data)\n",
    "print(data1)\n"
   ]
  },
  {
   "cell_type": "code",
   "execution_count": 19,
   "id": "ffe45146-2cfc-4387-8f79-50d36c97e5da",
   "metadata": {},
   "outputs": [
    {
     "name": "stdout",
     "output_type": "stream",
     "text": [
      "cal    23\n",
      "dur    23\n",
      "Name: 0, dtype: int64\n"
     ]
    }
   ],
   "source": [
    "# locate row : pandas use the loc attribute to return one or more specified row\n",
    "data = {\"cal\": [23,45,67,89], \"dur\":[23,45,67,89]}\n",
    "data1 = pd.DataFrame(data)\n",
    "print(data1.loc[0])"
   ]
  },
  {
   "cell_type": "code",
   "execution_count": 20,
   "id": "5b498da7-7dd2-4ae3-b9af-befe9beb3f1f",
   "metadata": {},
   "outputs": [
    {
     "name": "stdout",
     "output_type": "stream",
     "text": [
      "   cal  dur\n",
      "0   23   23\n",
      "1   45   45\n"
     ]
    }
   ],
   "source": [
    "# example of returning(output) row 0 and 1\n",
    "data = {\"cal\": [23,45,67,89], \"dur\":[23,45,67,89]}\n",
    "data1 = pd.DataFrame(data)\n",
    "print(data1.loc[[0,1]])"
   ]
  },
  {
   "cell_type": "code",
   "execution_count": 22,
   "id": "ccbd8249-ea0a-437f-a622-a3c40fae31ac",
   "metadata": {},
   "outputs": [
    {
     "name": "stdout",
     "output_type": "stream",
     "text": [
      "      cal  dur\n",
      "day1   23   23\n",
      "day2   45   45\n",
      "day3   67   67\n",
      "day4   89   89\n"
     ]
    }
   ],
   "source": [
    "# named Index : with the index argument, you can name your own index\n",
    "data = {\"cal\": [23,45,67,89], \"dur\":[23,45,67,89]}\n",
    "data1 = pd.DataFrame(data, index=[\"day1\",\"day2\",\"day3\",\"day4\"])\n",
    "print(data1)\n"
   ]
  },
  {
   "cell_type": "code",
   "execution_count": 24,
   "id": "cfd6ba7b-ee04-4e8e-8b90-2627ab37973f",
   "metadata": {},
   "outputs": [
    {
     "name": "stdout",
     "output_type": "stream",
     "text": [
      "cal    45\n",
      "dur    45\n",
      "Name: day2, dtype: int64\n"
     ]
    }
   ],
   "source": [
    "# locate the named index: output will display in series\n",
    "data = {\"cal\": [23,45,67,89], \"dur\":[23,45,67,89]}\n",
    "data1 = pd.DataFrame(data, index=[\"day1\",\"day2\",\"day3\",\"day4\"])\n",
    "print(data1.loc[\"day2\"])"
   ]
  },
  {
   "cell_type": "code",
   "execution_count": 26,
   "id": "091e65be-f83d-41aa-bde6-d290114f9159",
   "metadata": {},
   "outputs": [
    {
     "name": "stdout",
     "output_type": "stream",
     "text": [
      "      cal  dur\n",
      "day1   23   23\n",
      "day2   45   45\n"
     ]
    }
   ],
   "source": [
    "# output in a dataframe\n",
    "data = {\"cal\": [23,45,67,89], \"dur\":[23,45,67,89]}\n",
    "data1 = pd.DataFrame(data, index=[\"day1\",\"day2\",\"day3\",\"day4\"])\n",
    "print(data1.loc[[\"day1\",\"day2\"]])"
   ]
  },
  {
   "cell_type": "code",
   "execution_count": null,
   "id": "bc409c56-b96e-4413-840e-c8d89ecd5c41",
   "metadata": {},
   "outputs": [],
   "source": [
    "# load the data from the csv into dataframe i.e data.\n",
    "fileload = pd.read_csv('data.csv')\n",
    "print(fileload)"
   ]
  },
  {
   "cell_type": "code",
   "execution_count": null,
   "id": "d11c7b31-18fc-4c15-9ed7-dce53d538003",
   "metadata": {},
   "outputs": [],
   "source": [
    "#3. read csv files: (comma separated value(file)) it is a simple way to store the big and bigest data sets. csv files contains  plain text.\n",
    "# loading the csv into a dataframe\n",
    "df = pd.read_csv('data.csv')\n",
    "print(df.to_string())"
   ]
  },
  {
   "cell_type": "code",
   "execution_count": null,
   "id": "6e1f2005-fb3a-442d-b575-ea60dedca716",
   "metadata": {},
   "outputs": [],
   "source": [
    "# loading the csv into a dataframe\n",
    "df = pd.read_csv('data.csv')\n",
    "print(df.to_string())"
   ]
  },
  {
   "cell_type": "code",
   "execution_count": null,
   "id": "42283a97-e1ff-4b37-b1c2-ea6d30581593",
   "metadata": {},
   "outputs": [],
   "source": [
    "# max_rows : you can check your systems maximum rows with:\n",
    "print(pd.options.display.max_rows)"
   ]
  },
  {
   "cell_type": "code",
   "execution_count": null,
   "id": "95186e0c-303e-431f-80a7-4f314dd1d180",
   "metadata": {},
   "outputs": [],
   "source": [
    "# yes, we can increase the maximum number of rows to display the entire dataframe\n",
    "pd.options.display.max_rows = 9999\n",
    "df = pd.read_csv('data.csv')\n",
    "print(df)\n"
   ]
  },
  {
   "cell_type": "code",
   "execution_count": null,
   "id": "887c9945-d224-40e7-b6b2-b5168d7fc96a",
   "metadata": {},
   "outputs": [],
   "source": [
    "#4. JSON: Big data sets are normally stored and extracted as JSON. json is a plain text, but it has a fromat of an object.\n",
    "# loading the JSON into a dataframe:\n",
    "x = pd.read_json('data.json')\n",
    "print(x.to_string())"
   ]
  },
  {
   "cell_type": "code",
   "execution_count": 29,
   "id": "65dd7075-b8f3-4037-a84c-2209341b74ca",
   "metadata": {},
   "outputs": [
    {
     "name": "stdout",
     "output_type": "stream",
     "text": [
      "   Duration\n",
      "0        30\n",
      "1        20\n"
     ]
    }
   ],
   "source": [
    "# Dictionary as a JSON : if your json code is not in a file, but in a python dictionary, then you can do all below:\n",
    "data = {\n",
    "    \"Duration\":{\n",
    "        \"0\":30,\n",
    "        \"1\":20}\n",
    "}\n",
    "x = pd.DataFrame(data)\n",
    "print(x)"
   ]
  },
  {
   "cell_type": "code",
   "execution_count": null,
   "id": "794411ed-2b0f-4c71-821b-e9f6b151ce8b",
   "metadata": {},
   "outputs": [],
   "source": [
    "#6. pandas viewing and analyzing dataframes\n",
    "# viewing the data : one of the most used method for a quick overview of the dataframe is the head() method. this method returns the headers and a specified number of rows\n",
    "# here we will print the 1st 10 rows in the dataframe.\n",
    "x = pd.read_csv('data.csv')\n",
    "print(x.head(10))"
   ]
  },
  {
   "cell_type": "code",
   "execution_count": null,
   "id": "cbaf1a7f-4f0a-47b5-a1d3-57fceebc124c",
   "metadata": {},
   "outputs": [],
   "source": [
    "x = pd.read_csv('data.csv')\n",
    "print(x.tail(10))"
   ]
  },
  {
   "cell_type": "code",
   "execution_count": null,
   "id": "d29a5be9-1f22-41d5-b3dd-ee227ea98582",
   "metadata": {},
   "outputs": [],
   "source": [
    "# what if you want the information about the data in the dataframe: via info()\n",
    "df = pd.read_csv('data_csv')\n",
    "print(df.info())"
   ]
  },
  {
   "cell_type": "code",
   "execution_count": null,
   "id": "a819e5c3-2166-4b25-b2fb-9fbe5534916a",
   "metadata": {},
   "outputs": [],
   "source": [
    "#7. pandas cleaning data\n",
    "# cleaning data : it means fixing the bad data in your data set. bad data could be : empty cell, data in a wrong format, duplicate data and wrong data\n",
    "# empty cell: it will give you wrong resut always, we will have to remove the rows always that contain the bad data.\n",
    "# loading and reading the original dataframe\n",
    "x = pd.read_csv('data.csv')\n",
    "print(x.to_string())\n"
   ]
  },
  {
   "cell_type": "code",
   "execution_count": null,
   "id": "0223cab1-b2a5-460d-8fb7-411fd2cc8383",
   "metadata": {},
   "outputs": [],
   "source": [
    "# here we will return a new data frame with no empty cell\n",
    "x = pd.read_csv('data.csv')\n",
    "x1 = x.dropna()\n",
    "print(x1.to_string())"
   ]
  },
  {
   "cell_type": "code",
   "execution_count": null,
   "id": "68b46ea8-75aa-4bb3-aa3e-8a936d5e4acd",
   "metadata": {},
   "outputs": [],
   "source": [
    "# if at any case you want to change the original dataframe, than use the inplace=True argument, it will remove the rows containing the NULL(NaN)values\n",
    "x = pd.read_csv('data')\n",
    "x.dropna(inplace=True)\n",
    "print(x.to_string())"
   ]
  },
  {
   "cell_type": "code",
   "execution_count": null,
   "id": "5c6c2cdc-b3d5-4bcf-872f-82a872ed1efa",
   "metadata": {},
   "outputs": [],
   "source": [
    "# replacing the empty value: we will use the fillna() method which will allow us to replace the empty cell with a value\n",
    "x = pd.read_csv('data')\n",
    "x.fillna(130, inplace=True)\n",
    "print(x.to_string())"
   ]
  },
  {
   "cell_type": "code",
   "execution_count": null,
   "id": "5b90d8d9-597c-4cae-9422-dd1b03f20b8d",
   "metadata": {},
   "outputs": [],
   "source": [
    "# To replace only the empty value for one column, you need to specify the column name.\n",
    "x[\"calories\"].fillna(130, inplace=True)\n",
    "print(x.to_string())"
   ]
  },
  {
   "cell_type": "code",
   "execution_count": null,
   "id": "3b21cc24-935f-48f8-a2bc-868b8790c5dd",
   "metadata": {},
   "outputs": [],
   "source": [
    "# here we can also replace the empty cell using mean(),median() or mode()\n",
    "# calculate the mean and replace the empty values with it\n",
    "x = new[\"Calories\"].mean()\n",
    "x[\"Calories\"].fillna(x, inplace=True)\n",
    "print(x.to_string())"
   ]
  },
  {
   "cell_type": "code",
   "execution_count": null,
   "id": "731eb453-86bf-4c87-91f5-9b5d89ea3f96",
   "metadata": {},
   "outputs": [],
   "source": [
    "# calculate the median and replace any empty values in it\n",
    "x = new[\"Calories\"].median()\n",
    "x[\"Calories\"].fillna(x, inplace=True)\n",
    "print(x.to_string())"
   ]
  },
  {
   "cell_type": "code",
   "execution_count": null,
   "id": "e84b7a81-71b3-42fa-99fb-3f2cdbb635c5",
   "metadata": {},
   "outputs": [],
   "source": [
    "# calculate the mode and replace the empty cell with it.\n",
    "x = new[\"Calories\"].mode()[0]\n",
    "x[\"Calories\"].fillna(x, inplace=True)\n",
    "print(x.to_string())"
   ]
  },
  {
   "cell_type": "code",
   "execution_count": null,
   "id": "fbb322f1-04b5-440a-81d5-31411ba5c352",
   "metadata": {},
   "outputs": [],
   "source": [
    "#8. cleaning wrong format\n",
    "# data in a wrong format: to fix this problem, there are 2 ways: removing the rows or convert all the cells in the same format\n",
    "# now lets try to convert all the cells in the date column into dates. via to_datetime()\n",
    "x[\"Date\"] = pd.to_datetime(x['Date'])\n",
    "print(x.to_string())"
   ]
  },
  {
   "cell_type": "code",
   "execution_count": null,
   "id": "82e9d1ff-b680-4e36-af33-ee71cd8037a5",
   "metadata": {},
   "outputs": [],
   "source": [
    "# here now we will remove the rows with a null val in 'date' column\n",
    "x['Date'] = pd.to_datetime(x['Date'])\n",
    "x.dropna(subset=['Date']),inplace= True)\n",
    "print(x.to_string())"
   ]
  },
  {
   "cell_type": "code",
   "execution_count": null,
   "id": "f142bdd4-9111-4c8f-9218-702cf47d1a28",
   "metadata": {},
   "outputs": [],
   "source": [
    "#9. pandas fixing wrong data\n",
    "# wrong data : its only wrong data\n",
    "# here we will set \"duration\" = 45 in row 7:\n",
    "x.loc[7,'Duration'] = 45\n",
    "print(x.to_string())"
   ]
  },
  {
   "cell_type": "code",
   "execution_count": null,
   "id": "6f101eab-3dfa-4d37-94cb-f9d2efd74b1f",
   "metadata": {},
   "outputs": [],
   "source": [
    "# for larger dataset:now here we will loop through all the val in \"Duration\" column, if the val is higher than 120 than it set to 120\n",
    "for i in x.index:\n",
    "    if x.loc[i, \"Duration\"]>120:\n",
    "        x.loc[i, \"Duration\"]=120\n",
    "print(x.to_string)        "
   ]
  },
  {
   "cell_type": "code",
   "execution_count": null,
   "id": "75326c67-c30d-41a3-b840-eea42f34d0d7",
   "metadata": {},
   "outputs": [],
   "source": [
    "# you can also remove the rows for wrong data in larger dataset:\n",
    "for i in x.index:\n",
    "    if x.loc[i, \"Duration\"]>120:\n",
    "        x.drop(i, inplace=True)\n",
    "print(x.to_string()) "
   ]
  },
  {
   "cell_type": "code",
   "execution_count": null,
   "id": "6d4cbc35-f42c-451d-b9dd-dc5164398990",
   "metadata": {},
   "outputs": [],
   "source": [
    "#10.Removing the duplicate value : first you need to discover the duplicate values via duplicate() method.\n",
    "# returns true for every row that is duplicate otherwise return false:\n",
    "print(x.duplicate())"
   ]
  },
  {
   "cell_type": "code",
   "execution_count": null,
   "id": "24c2055b-9347-437b-9582-866347e784cc",
   "metadata": {},
   "outputs": [],
   "source": [
    "# removing the duplicate from the dataset via drop_duplicates()\n",
    "x.drop_duplicates(inplace=True)\n",
    "print(x.to_string())"
   ]
  }
 ],
 "metadata": {
  "kernelspec": {
   "display_name": "Python 3 (ipykernel)",
   "language": "python",
   "name": "python3"
  },
  "language_info": {
   "codemirror_mode": {
    "name": "ipython",
    "version": 3
   },
   "file_extension": ".py",
   "mimetype": "text/x-python",
   "name": "python",
   "nbconvert_exporter": "python",
   "pygments_lexer": "ipython3",
   "version": "3.11.7"
  }
 },
 "nbformat": 4,
 "nbformat_minor": 5
}
